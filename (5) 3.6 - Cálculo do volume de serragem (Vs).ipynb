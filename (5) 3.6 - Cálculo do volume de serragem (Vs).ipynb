{
 "cells": [
  {
   "cell_type": "markdown",
   "metadata": {},
   "source": [
    "# 3.6 - Cálculo do volume de serragem ($V_s$)\n",
    "\n",
    "## Para cortes de alturas variáveis:\n",
    "\n",
    "$$\n",
    "V_s = \\left( h_{ci} + \\cdots + h_{cn} \\right) \\times b \\times c\n",
    "$$\n",
    "\n",
    "\n",
    "## Para cortes de alturas uniformes:\n",
    "\n",
    "$$\n",
    "V_s = \\left( h_c \\times b \\times c \\right) \\times n\n",
    "$$\n",
    "\n",
    "onde:\n",
    "\n",
    "* $h_{ci} + \\cdots + h_{cn} \\rightarrow$ *altura dos cortes individuais ($\\sum_i^n h_c$)*;\n",
    "* $b \\rightarrow$ *largura de corte da serra*;\n",
    "* $c \\rightarrow$ *comprimento de corte (comprimento da tora)*; e\n",
    "* $n \\rightarrow$ *número de cortes de alturas uniformes ($h_c$)*.\n",
    "\n",
    "## Exemplo:\n",
    "\n",
    "Calcular o rendimento em madeira serrada e a percentagem de serragem produzida em uma serraria que processa $200 toras/dia$ ($\\varnothing médio toras = 24cm$ – tora cilíndrica; $comprimento = 4.20m$) segundo o seguinte diagrama de corte:\n",
    "\n",
    "![Diagrama](5-3.6-diagrama.png)\n",
    "\n",
    "### Dados:"
   ]
  },
  {
   "cell_type": "code",
   "execution_count": 13,
   "metadata": {},
   "outputs": [],
   "source": [
    "toras_dia = 200\n",
    "diametro_medio_tora = 24 # centímetros\n",
    "comprimento = 4.2        # metros\n",
    "# Valores tirados do diagrama\n",
    "b_bloco = 3.6            # milimetros\n",
    "altura = 170             # milímetros\n",
    "espessura = 40           # milíemtros\n",
    "b_tabua = 5              # milímetros\n",
    "# valores adivinhados\n",
    "numero_cortes = 4        # quantas deu para cortar com 24cm de diâmetro contando com perdas nos cantos"
   ]
  },
  {
   "cell_type": "markdown",
   "metadata": {},
   "source": [
    "### Solução:"
   ]
  },
  {
   "cell_type": "code",
   "execution_count": 19,
   "metadata": {},
   "outputs": [],
   "source": [
    "import math\n",
    "\n",
    "_round = 4 # casas decimais\n",
    "\n",
    "volume_tora = round((math.pi * (diametro_medio_tora / 100)**2 * comprimento) / numero_cortes,_round)\n",
    "volume_menos_um_corte = round(((espessura / 100 * altura / 100 * comprimento) * (numero_cortes - 2)) / 100,_round)\n",
    "\n",
    "R = round((volume_menos_um_corte / volume_tora) * 100,_round)"
   ]
  },
  {
   "cell_type": "markdown",
   "metadata": {
    "variables": {
     " R ": "30.0526",
     " volume_menos_uma_tabua ": "0.0857",
     " volume_tora ": "0.19",
     "-R-": "<p><strong>SyntaxError</strong>: invalid syntax (<ipython-input-20-dbac5dfdabfc>, line 1)</p>\n",
     "-volume_menos_uma_tabua-": "<p><strong>SyntaxError</strong>: invalid syntax (<ipython-input-20-72b24a71046e>, line 1)</p>\n",
     "-volume_tora-": "<p><strong>SyntaxError</strong>: invalid syntax (<ipython-input-20-c96b5865bf13>, line 1)</p>\n"
    }
   },
   "source": [
    "#### Rendimento:\n",
    "\n",
    "##### Volume tora = {{ volume_tora }}\n",
    "\n",
    "#### Volume menos uma tabua = {{ volume_menos_uma_tabua }}\n",
    "\n",
    "#### R = {{ R }}%\n",
    "\n"
   ]
  },
  {
   "cell_type": "code",
   "execution_count": 24,
   "metadata": {},
   "outputs": [],
   "source": [
    "volume_serragem_bloco = round((b_bloco / 1000 * altura / 1000 * comprimento) * numero_cortes,_round)\n",
    "\n",
    "volume_serragem_tabuas = round((b_tabua / 1000 * altura / 1000 * comprimento) * (numero_cortes - 2),_round)\n",
    "\n",
    "percentual_serragem = round(((volume_serragem_bloco + volume_serragem_tabuas) / volume_tora) * 100,_round)"
   ]
  },
  {
   "cell_type": "markdown",
   "metadata": {
    "variables": {
     " percentual_serragem ": "9.1579",
     " volume_serragem_bloco ": "0.0103",
     " volume_serragem_tabuas ": "0.0071",
     "-percentual_serragem-": "<p><strong>SyntaxError</strong>: invalid syntax (<ipython-input-25-ccf038918e90>, line 1)</p>\n",
     "-volume_serragem_bloco-": "<p><strong>SyntaxError</strong>: invalid syntax (<ipython-input-25-fd7c829c3624>, line 1)</p>\n",
     "-volume_serragem_tabuas-": "<p><strong>SyntaxError</strong>: invalid syntax (<ipython-input-25-c43a971b49fa>, line 1)</p>\n"
    }
   },
   "source": [
    "#### % Serragem $= \\left[ \\left(V_{s.b.} + V_{s.t.} \\right) / V_{tora} \\right] \\times 100$\n",
    "\n",
    "##### $V_{s.b.} = $ {{ volume_serragem_bloco }} $m^3$\n",
    "\n",
    "##### $V_{s.t.} = $ {{ volume_serragem_tabuas }} $m^3$\n",
    "\n",
    "##### % Serragem $ = $ {{ percentual_serragem }} %"
   ]
  },
  {
   "cell_type": "markdown",
   "metadata": {},
   "source": [
    "> This is the end"
   ]
  }
 ],
 "metadata": {
  "kernelspec": {
   "display_name": "Python 3",
   "language": "python",
   "name": "python3"
  },
  "language_info": {
   "codemirror_mode": {
    "name": "ipython",
    "version": 3
   },
   "file_extension": ".py",
   "mimetype": "text/x-python",
   "name": "python",
   "nbconvert_exporter": "python",
   "pygments_lexer": "ipython3",
   "version": "3.7.3"
  }
 },
 "nbformat": 4,
 "nbformat_minor": 2
}
