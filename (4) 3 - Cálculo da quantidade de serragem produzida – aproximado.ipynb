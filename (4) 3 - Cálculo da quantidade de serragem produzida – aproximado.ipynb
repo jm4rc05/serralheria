{
 "cells": [
  {
   "cell_type": "markdown",
   "metadata": {},
   "source": [
    "# 3 - Cálculo da quantidade de serragem produzida – aproximado\n",
    "\n",
    "![Diagrama](4-2-diagrama3-exemplo-solucao.png)\n",
    "\n",
    "## Exemplo\n",
    "\n",
    "Partindo do volume e o rendimento “máximo” de madeira serrada (bloco + peças laterais) que se obtém de uma tora de Pinus sem casca com as seguintes dimensões: $D_1 = 35_{cm}$; $D_2 = 30_{cm}$; $c = 2.75_{m}$; $b = 3_{mm}$, calcular o volume e o rendimento máximo (real) em madeira serrada (tábuas laterais e do bloco) que se pode obter da tora, considerando uma $e_n = 25_{mm}$ (para as tábuas do bloco). Calcular também o volume e o rendimento máximo em madeira serrada (tábuas) normalizada. Considere $S_e = 5\\%$ da $e_n$ e $b = 3_{mm}$, calcular a quantidade (%) de serragem produzida no desdobro total da tora (real)."
   ]
  },
  {
   "cell_type": "code",
   "execution_count": 5,
   "metadata": {},
   "outputs": [],
   "source": [
    "# Dados do cálculo do volume máximo obtido no notebook 1\n",
    "# ------------------------------------------------------------------------------------------------------\n",
    "D1 = 35        # centímetros\n",
    "D2 = 30        # centímetros\n",
    "c = 2.75       # metros\n",
    "b = 3          # milímetros\n",
    "\n",
    "alpha = 25.09  # constante obtida acima\n",
    "# ------------------------------------------------------------------------------------------------------\n",
    "\n",
    "# Dados do cálculo do volume máximo obtido no notebook 2\n",
    "# ------------------------------------------------------------------------------------------------------\n",
    "espessura_normalizada = 25                             # milímetros\n",
    "sobredimensao_espessura = espessura_normalizada * 0.05 # 5% de espessura_normalizada\n",
    "largura_corte_serra = 3                                # milímetros\n",
    "# ------------------------------------------------------------------------------------------------------"
   ]
  },
  {
   "cell_type": "markdown",
   "metadata": {},
   "source": [
    "### Solução"
   ]
  },
  {
   "cell_type": "code",
   "execution_count": 15,
   "metadata": {},
   "outputs": [],
   "source": [
    "# Solução do cálculo do volume máximo obtido no notebook 1\n",
    "# ------------------------------------------------------------------------------------------------------\n",
    "import math\n",
    "\n",
    "_round = 4\n",
    "\n",
    "a = round((D2 / math.sqrt(2)) / 100,_round)\n",
    "volume_bloco_maximo = round(a**2 * c,_round)\n",
    "volume_tora = round((math.pi * (D1**2 / 100 + D2**2 / 100) / 8) * c / 100,_round)\n",
    "rendimento = round((volume_bloco_maximo / volume_tora) * 100,_round)\n",
    "\n",
    "R = round(D2 / 2 / 100,_round)\n",
    "K = round(a / 2,_round)\n",
    "x = round((R * math.cos(math.radians(alpha)) - K) * 1000,_round)\n",
    "x_linha = x - b\n",
    "\n",
    "y = round(2 * R * math.sin(math.radians(alpha)) * 1000,_round)\n",
    "\n",
    "volume_4_pecas_laterais = round(4 * (x_linha / 1000 * y / 1000) * c,_round)\n",
    "\n",
    "rendimento_maximo = round(((volume_bloco_maximo + volume_4_pecas_laterais) / volume_tora) * 100,_round)\n",
    "# ------------------------------------------------------------------------------------------------------\n",
    "\n",
    "# Solução do cálculo do volume máximo obtido no notebook 2\n",
    "# ------------------------------------------------------------------------------------------------------\n",
    "espessura_corte = espessura_normalizada + sobredimensao_espessura + largura_corte_serra\n",
    "numero_tabuas = round(a * 1000 / espessura_corte)\n",
    "\n",
    "espessura = espessura_normalizada * 1.05\n",
    "\n",
    "largura = a\n",
    "\n",
    "volume_pecas_bloco = round(numero_tabuas * (espessura / 1000 * largura * c),_round)\n",
    "\n",
    "rendimento_maximo_real = round(((volume_4_pecas_laterais + volume_pecas_bloco) / volume_tora) * 100)\n",
    "\n",
    "largura_normalizada = round(a * 1000 / 25) * 25\n",
    "\n",
    "comprimento_normalizado = round(round(c / 0.3) * 0.3,_round)\n",
    "\n",
    "volume_pecas_bloco_normalizado = round(numero_tabuas * (espessura_normalizada/1000 * largura_normalizada/1000 * comprimento_normalizado),_round)\n",
    "\n",
    "espessura_lateral_normalizada = espessura_normalizada\n",
    "\n",
    "largura_lateral_normalizada_calculo = round(round(y / 25) * 25,_round)\n",
    "\n",
    "largura_lateral_normalizada = 100 # Obtida da tabela para a largura inferior da peça que melhor se encaixa\n",
    "\n",
    "volume_pecas_laterais_normalizado = round(4 * (espessura_lateral_normalizada / 1000 * largura_lateral_normalizada / 1000 * comprimento_normalizado),_round)\n",
    "\n",
    "rendimento_normalizado = round(((volume_pecas_laterais_normalizado + volume_pecas_bloco_normalizado) / volume_tora) * 100)\n",
    "# ------------------------------------------------------------------------------------------------------\n",
    "\n",
    "# Solução deste exemplo\n",
    "_round = 6\n",
    "\n",
    "volume_corte_1 = round(2 * (a * b * c) / 1000,_round)\n",
    "volume_corte_2 = round(2 * (a * b * c) / 1000,_round)\n",
    "volume_corte_3 = round(7 * (a * b * c) / 1000,_round)\n",
    "volume_corte_4 = round(4 * (y / 1000 * b * c) / 1000,_round)\n",
    "volume_corte_5 = round(8 * (x_linha / 1000 * b * c) / 1000,_round)\n",
    "\n",
    "volume_total_serragem = volume_corte_1 + volume_corte_2 + volume_corte_3 + volume_corte_4 + volume_corte_5\n",
    "\n",
    "perda_serragem = round((volume_total_serragem / volume_tora) * 100)"
   ]
  },
  {
   "cell_type": "markdown",
   "metadata": {
    "variables": {
     " perda_serragem ": "11",
     " volume_corte_1 ": "0.0035",
     " volume_corte_2 ": "0.0035",
     " volume_corte_3 ": "0.012249",
     " volume_corte_4 ": "0.004198",
     " volume_corte_5 ": "0.001765",
     " volume_tora ": "0.2295",
     " volume_total_serragem ": "0.025212",
     "-volume_corte_1-": "<p><strong>SyntaxError</strong>: invalid syntax (<ipython-input-16-b87e921243bf>, line 1)</p>\n",
     "-volume_corte_2-": "<p><strong>SyntaxError</strong>: invalid syntax (<ipython-input-16-36b9e777a8a9>, line 1)</p>\n",
     "-volume_corte_3-": "<p><strong>SyntaxError</strong>: invalid syntax (<ipython-input-16-6f8f0d409aa9>, line 1)</p>\n",
     "-volume_corte_4-": "<p><strong>SyntaxError</strong>: invalid syntax (<ipython-input-16-2e1516bc42bb>, line 1)</p>\n",
     "-volume_corte_5-": "<p><strong>SyntaxError</strong>: invalid syntax (<ipython-input-16-6cc690d34f4a>, line 1)</p>\n",
     "-volume_tora-": "<p><strong>SyntaxError</strong>: invalid syntax (<ipython-input-16-c96b5865bf13>, line 1)</p>\n",
     "-volume_total_serragem-": "<p><strong>SyntaxError</strong>: invalid syntax (<ipython-input-16-2d31d80a83b3>, line 1)</p>\n"
    }
   },
   "source": [
    "#### $V_{total serragem} = $ {{ volume_corte_1 }} $_{m^3}$ + {{ volume_corte_2 }} $_{m^3}$ + {{ volume_corte_3 }} $_{m^3}$ + {{ volume_corte_4 }} $_{m^3}$ + {{ volume_corte_5 }} $_{m^3}$\n",
    "\n",
    "$V_{total serragem} = $ {{ volume_total_serragem }} $_{m^3}$\n",
    "\n",
    "#### $\\%Perda_{serragem} = $ {{ volume_total_serragem }} / {{ volume_tora }} $\\times 100$\n",
    "\n",
    "$\\%Perda_{serragem} = $ {{ perda_serragem }}%"
   ]
  },
  {
   "cell_type": "markdown",
   "metadata": {},
   "source": [
    "> This is the end"
   ]
  }
 ],
 "metadata": {
  "kernelspec": {
   "display_name": "Python 3",
   "language": "python",
   "name": "python3"
  },
  "language_info": {
   "codemirror_mode": {
    "name": "ipython",
    "version": 3
   },
   "file_extension": ".py",
   "mimetype": "text/x-python",
   "name": "python",
   "nbconvert_exporter": "python",
   "pygments_lexer": "ipython3",
   "version": "3.7.3"
  }
 },
 "nbformat": 4,
 "nbformat_minor": 2
}
