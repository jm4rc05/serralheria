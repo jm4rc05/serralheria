{
 "cells": [
  {
   "cell_type": "markdown",
   "metadata": {},
   "source": [
    "# 3.8 - Eficiência de uma serraria (E)\n",
    "\n",
    "$$\n",
    "E = \\frac{T}{O} \\quad m^3 / operário / dia (turno)\n",
    "$$\n",
    "\n",
    "onde:\n",
    "\n",
    "* $E \\rightarrow$ *eficiência em $m^3 / operário / dia (turno)$*;\n",
    "* $T \\rightarrow$ *volume de toras desdobradas em um dia em $m^3$ (ex.: um turno de $8$ horas)*; e\n",
    "* $O \\rightarrow$ *quantidade de operários que trabalham dentro da serraria (envolvidos na produção)*.\n",
    "\n",
    "Também:\n",
    "\n",
    "* Madeira serrada produzida / operários / turno; ou\n",
    "* Área superficial serrada / operários / turno."
   ]
  },
  {
   "cell_type": "markdown",
   "metadata": {},
   "source": [
    "> This is the end"
   ]
  }
 ],
 "metadata": {
  "kernelspec": {
   "display_name": "Python 3",
   "language": "python",
   "name": "python3"
  },
  "language_info": {
   "codemirror_mode": {
    "name": "ipython",
    "version": 3
   },
   "file_extension": ".py",
   "mimetype": "text/x-python",
   "name": "python",
   "nbconvert_exporter": "python",
   "pygments_lexer": "ipython3",
   "version": "3.7.3"
  }
 },
 "nbformat": 4,
 "nbformat_minor": 2
}
