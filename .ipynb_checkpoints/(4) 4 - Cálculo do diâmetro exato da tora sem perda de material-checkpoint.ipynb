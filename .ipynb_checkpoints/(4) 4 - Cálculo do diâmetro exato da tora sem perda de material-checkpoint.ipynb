{
 "cells": [
  {
   "cell_type": "markdown",
   "metadata": {},
   "source": [
    "# 4 - Cálculo do diâmetro exato da tora sem perda de material\n",
    "\n",
    "## Exemplo\n",
    "\n",
    "Calcular o diâmetro necessário para produzir sete tábuas de Pinus normalizadas do bloco central de uma tora, sem perda de madeira. Considerar: $e_n = 25_{mm}$; $l_n = 200+{mm}$; $c_n = 2.70_{m}$.\n",
    "\n",
    "![Diagrama](4-4-diagrama-exemplo.png)\n",
    "\n",
    "$$\n",
    "a' = N^o tábuas \\cdot \\left( e_n + S_e \\right) + \\left( N^o tábuas - 1 \\right) \\cdot b\n",
    "$$\n",
    "\n",
    "$$\n",
    "D'^2 = a'^2 + l^2 \\longrightarrow D' = \\sqrt{a'^2 + l^2}\n",
    "$$\n",
    "\n",
    "onde:\n",
    "\n",
    "* $S_e \\rightarrow$ *sobredimensão na espessura*;\n",
    "* $S_l \\rightarrow$ *sobredimensão na largura*;\n",
    "* $l_n \\rightarrow$ *largura nominal*;\n",
    "* $b \\rightarrow$ *largura de corte da serra*;\n",
    "* $e_n \\rightarrow$ *espessura nominal*;\n",
    "* $e_c \\rightarrow$ *espessura de corte*;\n",
    "* $a' \\rightarrow$ *aresta de corte sem perda*; e\n",
    "* $D' \\rightarrow$ *diâmetro*."
   ]
  },
  {
   "cell_type": "code",
   "execution_count": 5,
   "metadata": {},
   "outputs": [],
   "source": [
    "import math\n",
    "\n",
    "_round = 4\n",
    "\n",
    "numero_tabuas = 7                                # peças\n",
    "espessura_nominal = 25                           # milímetros\n",
    "largura_nominal = 200                            # milímetros\n",
    "comprimento_nominal = 2.7                        # metros\n",
    "\n",
    "sobremedida_espessura = espessura_nominal * 0.05 # 5% de contratação para coníferas (pinus)\n",
    "sobremedida_largura = largura_nominal * 0.05     # 5% de contratação para coníferas (pinus)\n",
    "\n",
    "largura_corte = 3                                # milimetros (obtida da solução)"
   ]
  },
  {
   "cell_type": "code",
   "execution_count": 11,
   "metadata": {},
   "outputs": [],
   "source": [
    "aresta_sem_perda = numero_tabuas * (espessura_nominal + sobremedida_espessura) + (numero_tabuas - 1) * largura_corte\n",
    "\n",
    "largura = largura_nominal + sobremedida_largura\n",
    "\n",
    "diametro = round(math.sqrt((aresta_sem_perda / 10)**2 + (largura / 10)**2),_round)"
   ]
  },
  {
   "cell_type": "markdown",
   "metadata": {
    "variables": {
     " aresta_sem_perda ": "225.0",
     " aresta_sem_perda / 10 ": "22.5",
     " diametro ": "27.4648",
     " largura ": "157.5",
     " largura / 10 ": "15.75",
     "-aresta_sem_perda-": "<p><strong>SyntaxError</strong>: invalid syntax (<ipython-input-19-0e727f267dfb>, line 1)</p>\n",
     "-aresta_sem_perda-/-10-": "<p><strong>SyntaxError</strong>: invalid syntax (<ipython-input-19-f801f37b8842>, line 1)</p>\n",
     "-diametro-": "<p><strong>SyntaxError</strong>: invalid syntax (<ipython-input-19-61e7fff8ed9a>, line 1)</p>\n",
     "-largura-": "<p><strong>SyntaxError</strong>: invalid syntax (<ipython-input-19-f9b260e539ae>, line 1)</p>\n",
     "-largura-/-10-": "<p><strong>SyntaxError</strong>: invalid syntax (<ipython-input-19-2b539bc783dc>, line 1)</p>\n"
    }
   },
   "source": [
    "### Solução\n",
    "\n",
    "#### $a' = $ {{ aresta_sem_perda }} $_{mm}$ ou {{ aresta_sem_perda / 10 }} $_{cm}$\n",
    "\n",
    "#### $l = $ {{ largura }} $_{mm}$ ou  {{ largura / 10 }} $_{cm}$\n",
    "\n",
    "#### $D' = $ {{ diametro }} $_{cm}$\n",
    "\n",
    "### Dimensões das peças laterais\n",
    "\n",
    "![Diagrama](4-4-diagrama1-exemplo-solucao.png)\n",
    "\n",
    "## Exemplo\n",
    "\n",
    "Calcular o diâmetro das toras para produzir $4$ pranchas de Pinus normalizadas do bloco central, com as seguintes características: $e_n = 50_{mm}$; $l_n = 150_{mm}$; $b = 5_{mm}$."
   ]
  },
  {
   "cell_type": "code",
   "execution_count": 17,
   "metadata": {},
   "outputs": [],
   "source": [
    "numero_tabuas = 4      # peças\n",
    "espessura_nominal = 50 # milimetros\n",
    "largura_nominal = 150  # milimetros\n",
    "\n",
    "sobremedida_espessura = espessura_nominal * 0.05 # 5% de contratação para coníferas (pinus)\n",
    "sobremedida_largura = largura_nominal * 0.05     # 5% de contratação para coníferas (pinus)\n",
    "\n",
    "largura_corte = 5      # milimetros"
   ]
  },
  {
   "cell_type": "code",
   "execution_count": 18,
   "metadata": {},
   "outputs": [],
   "source": [
    "aresta_sem_perda = numero_tabuas * (espessura_nominal + sobremedida_espessura) + (numero_tabuas - 1) * largura_corte\n",
    "\n",
    "largura = largura_nominal + sobremedida_largura\n",
    "\n",
    "diametro = round(math.sqrt((aresta_sem_perda / 10)**2 + (largura / 10)**2),_round)"
   ]
  },
  {
   "cell_type": "markdown",
   "metadata": {
    "variables": {
     " aresta_sem_perda ": "225.0",
     " aresta_sem_perda / 10 ": "22.5",
     " diametro ": "27.4648",
     " largura / 10 ": "15.75",
     "-aresta_sem_perda-": "<p><strong>SyntaxError</strong>: invalid syntax (<ipython-input-19-0e727f267dfb>, line 1)</p>\n",
     "-aresta_sem_perda-/-10-": "<p><strong>SyntaxError</strong>: invalid syntax (<ipython-input-19-f801f37b8842>, line 1)</p>\n",
     "-diametro-": "<p><strong>SyntaxError</strong>: invalid syntax (<ipython-input-19-61e7fff8ed9a>, line 1)</p>\n",
     "-largura-/-10-": "<p><strong>SyntaxError</strong>: invalid syntax (<ipython-input-19-2b539bc783dc>, line 1)</p>\n"
    }
   },
   "source": [
    "### Solução\n",
    "\n",
    "#### $a' = $ {{ aresta_sem_perda }} $_{mm}$ ou  {{ aresta_sem_perda / 10 }} $_{cm}$\n",
    "\n",
    "#### $l = $ {{ largura / 10 }} $_{mm}$ ou {{ largura / 10 }} $_{cm}$\n",
    "\n",
    "#### $D' = $ {{ diametro }} $_{cm}$\n",
    "\n",
    "![Diagrama](4-4-diagrama2-exemplo-solucao.png)"
   ]
  },
  {
   "cell_type": "markdown",
   "metadata": {},
   "source": [
    "> This is the end"
   ]
  }
 ],
 "metadata": {
  "kernelspec": {
   "display_name": "Python 3",
   "language": "python",
   "name": "python3"
  },
  "language_info": {
   "codemirror_mode": {
    "name": "ipython",
    "version": 3
   },
   "file_extension": ".py",
   "mimetype": "text/x-python",
   "name": "python",
   "nbconvert_exporter": "python",
   "pygments_lexer": "ipython3",
   "version": "3.7.3"
  }
 },
 "nbformat": 4,
 "nbformat_minor": 2
}
