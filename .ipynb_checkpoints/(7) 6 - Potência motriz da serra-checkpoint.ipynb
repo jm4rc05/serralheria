{
 "cells": [
  {
   "cell_type": "markdown",
   "metadata": {},
   "source": [
    "# 6 - Potência motriz da serra\n",
    "\n",
    "## Exemplo de cálculo de potência necessária do motor ($N_m$)\n",
    "\n",
    "a) Uma serraria trabalha com serra de fita simples (principal) e alimentação da madeira com carro porta-toras, com as seguintes características:\n",
    "\n",
    "### Dados"
   ]
  },
  {
   "cell_type": "code",
   "execution_count": 43,
   "metadata": {},
   "outputs": [],
   "source": [
    "passo_dente = 40          # milímetros\n",
    "largura_corte_dente = 2.7 # milímetros\n",
    "rotacoes_volante = 600    # RPMs\n",
    "potencia_motor_serra = 50 # KW\n",
    "potencia_vazio = 2.1      # KW\n",
    "Vc = 45                   # m/seg\n",
    "Va = 40                   # m/min\n",
    "diametro_volantes = 1000  # milímetros\n",
    "altura_dente = 18         # milímetros\n",
    "rendimento_motor = 85     # %\n",
    "espessura_serra = 1       # milímetros\n",
    "largura_serra = 150       # milímetros\n",
    "corte = 45                # centímetros\n",
    "\n",
    "_round = 4"
   ]
  },
  {
   "cell_type": "markdown",
   "metadata": {},
   "source": [
    "### Solução\n",
    "\n",
    "![Diagrama](7-6-diagrama1-exemplo.png)"
   ]
  },
  {
   "cell_type": "code",
   "execution_count": 44,
   "metadata": {},
   "outputs": [],
   "source": [
    "N_m = potencia_motor_serra\n",
    "b = round(largura_corte_dente,_round)\n",
    "h_c = round(corte / 100,_round)\n",
    "V_a = round(Va / 60,_round)\n",
    "t_linha = round(passo_dente * V_a / Vc,2)\n",
    "N_c = round(44 * 10**6 * b * 10**(-3) * (corte / 100) * V_a,_round)"
   ]
  },
  {
   "cell_type": "markdown",
   "metadata": {
    "variables": {
     " N_c ": "35641.782",
     " V_a ": "0.6667",
     " V_c / 100 ": "0.45",
     " b ": "2.7",
     " largura_corte_dente ": "2.7",
     " potencia_motor_serra ": "50",
     " potencia_vazio ": "2.1",
     " round(N_c / 1000,_round) ": "35.6418",
     " t_linha ": "0.59",
     "-N_c-": "<p><strong>SyntaxError</strong>: invalid syntax (<ipython-input-45-8dac8ddbe1be>, line 1)</p>\n",
     "-V_a-": "<p><strong>SyntaxError</strong>: invalid syntax (<ipython-input-45-424a79a536a2>, line 1)</p>\n",
     "-V_c-/-100-": "<p><strong>SyntaxError</strong>: invalid syntax (<ipython-input-45-a76ba2f1038a>, line 1)</p>\n",
     "-b-": "<p><strong>SyntaxError</strong>: invalid syntax (<ipython-input-45-a2a854d37399>, line 1)</p>\n",
     "-largura_corte_dente-": "<p><strong>SyntaxError</strong>: invalid syntax (<ipython-input-45-75374be239a3>, line 1)</p>\n",
     "-potencia_motor_serra-": "<p><strong>SyntaxError</strong>: invalid syntax (<ipython-input-45-6f501f56c465>, line 1)</p>\n",
     "-potencia_vazio-": "<p><strong>SyntaxError</strong>: invalid syntax (<ipython-input-45-9df5aa9d031e>, line 1)</p>\n",
     "-round(N_c-/-1000,_round)-": "<p><strong>SyntaxError</strong>: invalid syntax (<ipython-input-45-093c85ca3798>, line 1)</p>\n",
     "-t_linha-": "<p><strong>SyntaxError</strong>: invalid syntax (<ipython-input-45-dd9130ea7259>, line 1)</p>\n"
    }
   },
   "source": [
    "#### $N_m \\le $ à potência do motor da máquina ( {{ potencia_motor_serra }} )\n",
    "\n",
    "#### $b = $ {{ largura_corte_dente }}$_{m}$\n",
    "\n",
    "#### $h_c = $ {{ V_c / 100 }}$_{m}$\n",
    "\n",
    "#### $V_a = $ {{ V_a }}$_{m/seg}$\n",
    "\n",
    "#### $K_s = $ ? $\\rightarrow $ obter $t'$\n",
    "\n",
    "#### $P / V_c = t' / V_a \\rightarrow t' = (P \\times V_a) / V_c$\n",
    "\n",
    "#### $N_c = k_s \\times b \\times h_c \\times V_a$\n",
    "\n",
    "![Diagrama](7-6-diagrama2-exemplo.png)\n",
    "\n",
    "#### $t' = $ {{ t_linha }}$_{m} \\rightarrow K_s = 44 \\times 10^6 (N/m^2)$ \n",
    "\n",
    "#### $\\therefore N_c = 44 \\times 10^6 (N/m^2) \\times ($ {{ b }} $\\times 10^{-3}_{m}) \\times $ {{ V_c / 100 }}$_{m} \\times $ {{ V_a }}$_{m/seg} = $ {{ N_c }} (W) ou {{ round(N_c / 1000,_round) }} (KW)\n",
    "\n",
    "#### $N_0 = $ {{ potencia_vazio }} (KW)\n",
    "\n",
    "#### $N_m \\le $ à potência do motor da máquina\n",
    "\n",
    "#### EMPAQUEI no 44,47KW??? $ \\le $ 50WK"
   ]
  },
  {
   "cell_type": "markdown",
   "metadata": {},
   "source": [
    "b) Fazer o mesmo cálculo anterior para uma altura de corte de 65 cm, obrigatoriamente\n",
    "\n",
    "### Dados"
   ]
  },
  {
   "cell_type": "code",
   "execution_count": 45,
   "metadata": {},
   "outputs": [],
   "source": [
    "corte = 65                # centímetros"
   ]
  },
  {
   "cell_type": "code",
   "execution_count": 46,
   "metadata": {},
   "outputs": [],
   "source": [
    "N_m = potencia_motor_serra\n",
    "b = round(largura_corte_dente,_round)\n",
    "h_c = round(corte / 100,_round)\n",
    "V_a = round(Va / 60,_round)\n",
    "t_linha = round(passo_dente * V_a / Vc,2)\n",
    "K_s = 44\n",
    "N_c = round(K_s * 10**6 * b * 10**(-3) * (corte / 100) * V_a,_round)"
   ]
  },
  {
   "cell_type": "markdown",
   "metadata": {
    "variables": {
     " K_s ": "44",
     " N_c ": "51482.574",
     " V_a ": "0.6667",
     " b ": "2.7",
     " corte / 100 ": "0.65",
     " potencia_vazio ": "2.1",
     " round(N_c / 1000,_round) ": "51.4826",
     " t_linha ": "0.59",
     "-K_s-": "<p><strong>SyntaxError</strong>: invalid syntax (<ipython-input-47-4a7f2a3b0ea7>, line 1)</p>\n",
     "-N_c-": "<p><strong>SyntaxError</strong>: invalid syntax (<ipython-input-47-8dac8ddbe1be>, line 1)</p>\n",
     "-V_a-": "<p><strong>SyntaxError</strong>: invalid syntax (<ipython-input-47-424a79a536a2>, line 1)</p>\n",
     "-b-": "<p><strong>SyntaxError</strong>: invalid syntax (<ipython-input-47-a2a854d37399>, line 1)</p>\n",
     "-corte-/-100-": "<p><strong>SyntaxError</strong>: invalid syntax (<ipython-input-47-47c3d077ddda>, line 1)</p>\n",
     "-potencia_vazio-": "<p><strong>SyntaxError</strong>: invalid syntax (<ipython-input-47-9df5aa9d031e>, line 1)</p>\n",
     "-round(N_c-/-1000,_round)-": "<p><strong>SyntaxError</strong>: invalid syntax (<ipython-input-47-093c85ca3798>, line 1)</p>\n",
     "-t_linha-": "<p><strong>SyntaxError</strong>: invalid syntax (<ipython-input-47-dd9130ea7259>, line 1)</p>\n"
    }
   },
   "source": [
    "#### $t' = $ {{ t_linha }}$_{m} \\rightarrow K_s = 44 \\times 10^6 (N/m^2)$ \n",
    "\n",
    "#### $\\therefore N_c = $ {{ K_s }} $ \\times 10^6 (N/m^2) \\times ($ {{ b }} $\\times 10^{-3}_{m}) \\times $ {{ corte / 100 }}$_{m} \\times $ {{ V_a }}$_{m/seg} = $ {{ N_c }} (W) ou {{ round(N_c / 1000,_round) }} (KW)\n",
    "\n",
    "#### $N_0 = $ {{ potencia_vazio }} (KW)\n",
    "\n",
    "#### $N_m \\le $ à potência do motor da máquina\n",
    "\n",
    "#### EMPAQUEI no 63KW??? $ \\le $ 50WK"
   ]
  },
  {
   "cell_type": "markdown",
   "metadata": {},
   "source": [
    "Mudança de $V_a = 40_{m/min}$ para $V_a = 20_{m/min}$"
   ]
  },
  {
   "cell_type": "code",
   "execution_count": 47,
   "metadata": {},
   "outputs": [],
   "source": [
    "Va = 20"
   ]
  },
  {
   "cell_type": "code",
   "execution_count": 48,
   "metadata": {},
   "outputs": [],
   "source": [
    "N_m = potencia_motor_serra\n",
    "b = round(largura_corte_dente,_round)\n",
    "h_c = round(corte / 100,_round)\n",
    "V_a = round(Va / 60,_round)\n",
    "t_linha = round(passo_dente * V_a / Vc,2)\n",
    "K_s = 55\n",
    "N_c = round(K_s * 10**6 * b * 10**(-3) * (corte / 100) * V_a,_round)"
   ]
  },
  {
   "cell_type": "markdown",
   "metadata": {
    "variables": {
     " K_s ": "55",
     " N_c ": "32171.7825",
     " V_a ": "0.3333",
     " b ": "2.7",
     " corte / 100 ": "0.65",
     " potencia_vazio ": "2.1",
     " round(N_c / 1000,_round) ": "32.1718",
     " t_linha ": "0.3",
     "-K_s-": "<p><strong>SyntaxError</strong>: invalid syntax (<ipython-input-49-4a7f2a3b0ea7>, line 1)</p>\n",
     "-N_c-": "<p><strong>SyntaxError</strong>: invalid syntax (<ipython-input-49-8dac8ddbe1be>, line 1)</p>\n",
     "-V_a-": "<p><strong>SyntaxError</strong>: invalid syntax (<ipython-input-49-424a79a536a2>, line 1)</p>\n",
     "-b-": "<p><strong>SyntaxError</strong>: invalid syntax (<ipython-input-49-a2a854d37399>, line 1)</p>\n",
     "-corte-/-100-": "<p><strong>SyntaxError</strong>: invalid syntax (<ipython-input-49-47c3d077ddda>, line 1)</p>\n",
     "-potencia_vazio-": "<p><strong>SyntaxError</strong>: invalid syntax (<ipython-input-49-9df5aa9d031e>, line 1)</p>\n",
     "-round(N_c-/-1000,_round)-": "<p><strong>SyntaxError</strong>: invalid syntax (<ipython-input-49-093c85ca3798>, line 1)</p>\n",
     "-t_linha-": "<p><strong>SyntaxError</strong>: invalid syntax (<ipython-input-49-dd9130ea7259>, line 1)</p>\n"
    }
   },
   "source": [
    "#### $t' = $ {{ t_linha }}$_{m} \\rightarrow K_s = 55 \\times 10^6 (N/m^2)$ \n",
    "\n",
    "#### $\\therefore N_c = $ {{ K_s }} $ \\times 10^6 (N/m^2) \\times ($ {{ b }} $\\times 10^{-3}_{m}) \\times $ {{ corte / 100 }}$_{m} \\times $ {{ V_a }}$_{m/seg} = $ {{ N_c }} (W) ou {{ round(N_c / 1000,_round) }} (KW)\n",
    "\n",
    "#### $N_0 = $ {{ potencia_vazio }} (KW)\n",
    "\n",
    "#### $N_m \\le $ à potência do motor da máquina\n",
    "\n",
    "#### EMPAQUEI no 40,28KW??? $ \\le $ 50WK"
   ]
  },
  {
   "cell_type": "markdown",
   "metadata": {},
   "source": [
    "> This is the end"
   ]
  }
 ],
 "metadata": {
  "kernelspec": {
   "display_name": "Python 3",
   "language": "python",
   "name": "python3"
  },
  "language_info": {
   "codemirror_mode": {
    "name": "ipython",
    "version": 3
   },
   "file_extension": ".py",
   "mimetype": "text/x-python",
   "name": "python",
   "nbconvert_exporter": "python",
   "pygments_lexer": "ipython3",
   "version": "3.7.3"
  }
 },
 "nbformat": 4,
 "nbformat_minor": 2
}
