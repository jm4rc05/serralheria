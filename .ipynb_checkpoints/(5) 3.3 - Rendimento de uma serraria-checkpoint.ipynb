{
 "cells": [
  {
   "cell_type": "markdown",
   "metadata": {},
   "source": [
    "# Rendimento de uma serraria\n",
    "\n",
    "O rendimento de uma serraria é dado pela seguinte relação:\n",
    "\n",
    "$$\n",
    "R = \\frac{V_{madeira serrada}}{V_{tora}} \\times 100 \\qquad (\\%)\n",
    "$$\n",
    "\n",
    "onde:\n",
    "\n",
    "* $R \\rightarrow$ *rendimento em percentual*;\n",
    "* $V_{madeira serrada} \\rightarrow$ *volume de madeira serrada, em $m^3$*; e\n",
    "* $V_{tora} \\rightarrow$ *volume das toras, em $m^3$ (com e sem casca)*.\n",
    "\n",
    "## Exemplo:\n",
    "\n",
    "Qual é a classificação e o rendimento de uma serraria que consome $200 toras/turno$ de $30cm$ de diâmetro maior, $24cm$ de diâmetro menor e $2.5m$ de comprimento para produzir $15m^3$ de madeira serrada em um turno."
   ]
  },
  {
   "cell_type": "code",
   "execution_count": 18,
   "metadata": {},
   "outputs": [],
   "source": [
    "toras_turno = 200       # toras por turno\n",
    "diametro_maior = 30     # centímetros\n",
    "diametro_menor = 24     # centímetros\n",
    "comprimento = 2.5       # metros\n",
    "producao_um_turno = 15  # metros cúbicos em um turno"
   ]
  },
  {
   "cell_type": "markdown",
   "metadata": {},
   "source": [
    "### Solução"
   ]
  },
  {
   "cell_type": "code",
   "execution_count": 19,
   "metadata": {},
   "outputs": [],
   "source": [
    "import math\n",
    "\n",
    "classificacao = round(((((diametro_maior / 100)**2 + (diametro_menor / 100)**2) / 8) * math.pi * comprimento) * toras_turno)\n",
    "\n",
    "R = round((producao_um_turno / classificacao) * 100,2)"
   ]
  },
  {
   "cell_type": "markdown",
   "metadata": {
    "variables": {
     " R ": "51.72",
     " classificacao ": "29",
     "-R-": "<p><strong>SyntaxError</strong>: invalid syntax (<ipython-input-20-dbac5dfdabfc>, line 1)</p>\n",
     "-classificacao-": "<p><strong>SyntaxError</strong>: invalid syntax (<ipython-input-20-697174d09ee4>, line 1)</p>\n"
    }
   },
   "source": [
    "#### Classificação: {{ classificacao }}$m^3$/turno\n",
    "\n",
    "#### Rendimento: {{ R }}"
   ]
  },
  {
   "cell_type": "markdown",
   "metadata": {},
   "source": [
    "> This is the end"
   ]
  }
 ],
 "metadata": {
  "kernelspec": {
   "display_name": "Python 3",
   "language": "python",
   "name": "python3"
  },
  "language_info": {
   "codemirror_mode": {
    "name": "ipython",
    "version": 3
   },
   "file_extension": ".py",
   "mimetype": "text/x-python",
   "name": "python",
   "nbconvert_exporter": "python",
   "pygments_lexer": "ipython3",
   "version": "3.7.3"
  }
 },
 "nbformat": 4,
 "nbformat_minor": 2
}
