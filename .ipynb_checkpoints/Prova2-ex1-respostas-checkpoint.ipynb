{
 "cells": [
  {
   "cell_type": "markdown",
   "metadata": {},
   "source": [
    "a) Calcular a quantidade de matéria-prima disponível anualmente e a produção diária de madeira serrada de uma serraria que trabalha 265 dias ao ano em um turno de 8 horas. Considerar: \n",
    "* disponibilidade de 1600ha de Pinus de 22 anos de idade; \n",
    "* produtividade da floresta de 35m3/ha.ano; \n",
    "* rendimento em madeira serrada 46%."
   ]
  },
  {
   "cell_type": "code",
   "execution_count": 4,
   "metadata": {},
   "outputs": [],
   "source": [
    "_round = 2\n",
    "\n",
    "disponibilidade = 1600                                                     # ha\n",
    "produtividade = 35                                                         # metro cúbico por ha ao ano\n",
    "trabalho = 265                                                             # dias de trabalho\n",
    "volume_anual = disponibilidade * produtividade                             # metro cúbico por ano\n",
    "producao_madeira_bruta = disponibilidade * produtividade                   # metros cubicos ao ano\n",
    "rendimento = 0.46                                                          # 46%\n",
    "producao_madeira_anual = producao_madeira_bruta * rendimento               # por ano\n",
    "producao_madeira_diaria = round(producao_madeira_anual /  trabalho,_round) # metro cúbico por dia"
   ]
  },
  {
   "cell_type": "markdown",
   "metadata": {
    "variables": {
     " producao_madeira ": "25760.0",
     " producao_madeira_diaria ": "97.21",
     " volume_anual ": "56000",
     "-producao_madeira-": "<p><strong>SyntaxError</strong>: invalid syntax (<ipython-input-5-b2ffaac0f55b>, line 1)</p>\n",
     "-producao_madeira_diaria-": "<p><strong>SyntaxError</strong>: invalid syntax (<ipython-input-5-1a80f823a2c4>, line 1)</p>\n",
     "-volume_anual-": "<p><strong>SyntaxError</strong>: invalid syntax (<ipython-input-5-a19a663622a5>, line 1)</p>\n"
    }
   },
   "source": [
    "### Volume anual {{ volume_anual }}$_{m^3}$ total ao ano\n",
    "\n",
    "### Produção de {{ producao_madeira }}$_{m^3}$ total ao ano\n",
    "\n",
    "### Produção diária {{ producao_madeira_diaria }}$_{m^3}$ total ao dia"
   ]
  },
  {
   "cell_type": "markdown",
   "metadata": {},
   "source": [
    "b) Calcular a quantidade anual de matéria-prima de uma serraria, se a produção diária de madeira serrada é de 90m3 em um turno de 8 horas. Considerar: \n",
    "* a serraria trabalha 280 dias ao ano; \n",
    "* o rendimento em madeira serrada é 44%."
   ]
  },
  {
   "cell_type": "code",
   "execution_count": 27,
   "metadata": {},
   "outputs": [],
   "source": [
    "_round = 2\n",
    "\n",
    "producao_diaria = 90 # metros cubicos por dia\n",
    "dias_ano = 280       # dias\n",
    "rendimento = 0.44    # 44%\n",
    "producao_anual = round(producao_diaria * dias_ano / rendimento,_round)"
   ]
  },
  {
   "cell_type": "markdown",
   "metadata": {
    "variables": {
     " producao_anual ": "57272.73",
     "-producao_anual-": "<p><strong>SyntaxError</strong>: invalid syntax (<ipython-input-28-ce58d358b5c9>, line 1)</p>\n"
    }
   },
   "source": [
    "### Quantidade anual de materia prima é {{ producao_anual }}$_{m^3}$"
   ]
  },
  {
   "cell_type": "markdown",
   "metadata": {},
   "source": [
    "c) Calcular o consumo e o custo anual da matéria-prima na serraria, se:\n",
    "- custo da madeira de Pinus em pé: R 81/m3\n",
    "- produção de madeira serrada: 75m3/turno\n",
    "- rendimento madeira serrada: 58%\n",
    "- dias de trabalho no ano (1 turno): 264 dias/ano\n",
    "- custo de extração da madeira e transporte à serraria: 72% do preço da madeira em pé"
   ]
  },
  {
   "cell_type": "code",
   "execution_count": 28,
   "metadata": {},
   "outputs": [],
   "source": [
    "_round = 2\n",
    "\n",
    "custo_madeira = 81    # reais por metro cúbico em pé\n",
    "producao_diaria = 75  # metros cúbicos por turno\n",
    "rendimento = 0.58     # 58%\n",
    "dias_ano = 264        # dias\n",
    "custo_extracao = 0.72 # 72% do preço custo_madeira\n",
    "\n",
    "consumo_anual = round(producao_diaria * dias_ano / rendimento,_round)\n",
    "custo_anual = round(consumo_anual * custo_madeira * (1 + custo_extracao),_round)"
   ]
  },
  {
   "cell_type": "markdown",
   "metadata": {
    "variables": {
     " consumo_anual ": "34137.93",
     " custo_anual ": "4756096.41",
     "-consumo_anual-": "<p><strong>SyntaxError</strong>: invalid syntax (<ipython-input-29-1c70f40c738a>, line 1)</p>\n",
     "-custo_anual-": "<p><strong>SyntaxError</strong>: invalid syntax (<ipython-input-29-b3a1f54bc206>, line 1)</p>\n"
    }
   },
   "source": [
    "### Consumo anual = {{ consumo_anual }}$_{m^3}$\n",
    "\n",
    "### Custo anual = {{ custo_anual }} Reais"
   ]
  },
  {
   "cell_type": "markdown",
   "metadata": {},
   "source": [
    "> This is the end"
   ]
  }
 ],
 "metadata": {
  "kernelspec": {
   "display_name": "Python 3",
   "language": "python",
   "name": "python3"
  },
  "language_info": {
   "codemirror_mode": {
    "name": "ipython",
    "version": 3
   },
   "file_extension": ".py",
   "mimetype": "text/x-python",
   "name": "python",
   "nbconvert_exporter": "python",
   "pygments_lexer": "ipython3",
   "version": "3.7.3"
  }
 },
 "nbformat": 4,
 "nbformat_minor": 2
}
