{
 "cells": [
  {
   "cell_type": "code",
   "execution_count": 15,
   "metadata": {},
   "outputs": [],
   "source": [
    "import math \n",
    "\n",
    "rotacao_volate = 454\n",
    "b = 2.5 / 1000\n",
    "h = 26 / 100\n",
    "va = 20 / 60\n",
    "\n",
    "vc = (math.pi * 1 * rotacao_volate) / 60\n",
    "\n",
    "t_linha = (5/1000 * va) / vc\n",
    "\n",
    "ks = 43 * 10**6\n",
    "\n",
    "NC = ks * b * h * va"
   ]
  },
  {
   "cell_type": "markdown",
   "metadata": {
    "variables": {
     " NC ": "9316.666666666666",
     " b ": "0.0025",
     " h ": "0.26",
     " ks ": "43000000",
     " va ": "0.3333333333333333"
    }
   },
   "source": [
    "NC $ = $ {{ ks }} $ * $ {{ b }} $ * $ {{ h }} $ * $ {{ va }} $ = $ {{ NC }}"
   ]
  },
  {
   "cell_type": "code",
   "execution_count": null,
   "metadata": {},
   "outputs": [],
   "source": []
  }
 ],
 "metadata": {
  "kernelspec": {
   "display_name": "Python 3",
   "language": "python",
   "name": "python3"
  },
  "language_info": {
   "codemirror_mode": {
    "name": "ipython",
    "version": 3
   },
   "file_extension": ".py",
   "mimetype": "text/x-python",
   "name": "python",
   "nbconvert_exporter": "python",
   "pygments_lexer": "ipython3",
   "version": "3.7.3"
  }
 },
 "nbformat": 4,
 "nbformat_minor": 2
}
