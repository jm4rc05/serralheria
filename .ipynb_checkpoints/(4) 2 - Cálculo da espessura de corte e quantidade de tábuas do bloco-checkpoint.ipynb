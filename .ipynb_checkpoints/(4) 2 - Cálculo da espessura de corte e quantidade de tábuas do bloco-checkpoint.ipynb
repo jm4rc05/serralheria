{
 "cells": [
  {
   "cell_type": "markdown",
   "metadata": {},
   "source": [
    "# 2 - Cálculo da espessura de corte e quantidade de tábuas do bloco\n",
    "\n",
    "![Diagrama](4-2-diagrama.png)\n",
    "\n",
    "## Espessura de corte\n",
    "\n",
    "$$\n",
    "e_c = e_n + S_e + b\n",
    "$$\n",
    "\n",
    "## Quantidade de tábuas do bloco (ou número de cortes)\n",
    "\n",
    "$$\n",
    "N^o cortes = \\frac{a}{e_c}\n",
    "$$\n",
    "\n",
    "ou\n",
    "\n",
    "$$\n",
    "N^o tábuas = \\frac{a}{e_c}\n",
    "$$\n",
    "\n",
    "onde:\n",
    "\n",
    "* $S_e \\rightarrow $ *sobredimensão da espessura*;\n",
    "* $b \\rightarrow $ *largura de corte da serra*;\n",
    "* $e_n \\rightarrow $ *espessura nominal*; e\n",
    "* $e_c \\rightarrow $ *espessura de corte*.\n",
    "\n",
    "\n",
    "## Exemplo\n",
    "\n",
    "Partindo do volume e o rendimento “máximo” de madeira serrada (bloco + peças laterais) que se obtém de uma tora de Pinus sem casca com as seguintes dimensões: $D_1 = 35_{cm}$; $D_2 = 30_{cm}$; $c = 2.75_{m}$; $b = 3_{mm}$, calcular o volume e o rendimento máximo (real) em madeira serrada (tábuas laterais e do bloco) que se pode obter da tora, considerando uma $e_n = 25_{mm}$ (para as tábuas do bloco). Calcular também o volume e o rendimento máximo em madeira serrada (tábuas) normalizada. Considere $S_e = 5\\%$ da $e_n$ e $b = 3_{mm}$."
   ]
  },
  {
   "cell_type": "code",
   "execution_count": 13,
   "metadata": {},
   "outputs": [],
   "source": [
    "# Dados do cálculo do volume máximo obtido no notebook 1\n",
    "# ------------------------------------------------------------------------------------------------------\n",
    "D1 = 35        # centímetros\n",
    "D2 = 30        # centímetros\n",
    "c = 2.75       # metros\n",
    "b = 3          # milímetros\n",
    "\n",
    "alpha = 25.09  # constante obtida acima\n",
    "# ------------------------------------------------------------------------------------------------------\n",
    "\n",
    "# Dados deste exemplo\n",
    "espessura_normalizada = 25                             # milímetros\n",
    "sobredimensao_espessura = espessura_normalizada * 0.05 # 5% de espessura_normalizada\n",
    "largura_corte_serra = 3                                # milímetros"
   ]
  },
  {
   "cell_type": "markdown",
   "metadata": {},
   "source": [
    "### Solução\n",
    "\n",
    "#### Volume e rendimento máximo (real)"
   ]
  },
  {
   "cell_type": "code",
   "execution_count": 21,
   "metadata": {},
   "outputs": [],
   "source": [
    "# Solução do cálculo do volume máximo obtido no notebook 1\n",
    "# ------------------------------------------------------------------------------------------------------\n",
    "import math\n",
    "\n",
    "_round = 4\n",
    "\n",
    "a = round((D2 / math.sqrt(2)) / 100,_round)\n",
    "volume_bloco_maximo = round(a**2 * c,_round)\n",
    "volume_tora = round((math.pi * (D1**2 / 100 + D2**2 / 100) / 8) * c / 100,_round)\n",
    "rendimento = round((volume_bloco_maximo / volume_tora) * 100,_round)\n",
    "\n",
    "R = round(D2 / 2 / 100,_round)\n",
    "K = round(a / 2,_round)\n",
    "x = round((R * math.cos(math.radians(alpha)) - K) * 1000,_round)\n",
    "x_linha = x - b\n",
    "\n",
    "y = round(2 * R * math.sin(math.radians(alpha)) * 1000,_round)\n",
    "\n",
    "volume_4_pecas_laterais = round(4 * (x_linha / 1000 * y / 1000) * c,_round)\n",
    "\n",
    "rendimento_maximo = round(((volume_bloco_maximo + volume_4_pecas_laterais) / volume_tora) * 100,_round)\n",
    "# ------------------------------------------------------------------------------------------------------\n",
    "\n",
    "# Solução deste exemplo\n",
    "espessura_corte = espessura_normalizada + sobredimensao_espessura + largura_corte_serra\n",
    "numero_tabuas = round(a * 1000 / espessura_corte)\n",
    "\n",
    "espessura = espessura_normalizada * 1.05\n",
    "\n",
    "largura = a\n",
    "\n",
    "volume_pecas_bloco = round(numero_tabuas * (espessura / 1000 * largura * c),_round)\n",
    "\n",
    "rendimento_maximo_real = round(((volume_4_pecas_laterais + volume_pecas_bloco) / volume_tora) * 100)"
   ]
  },
  {
   "cell_type": "markdown",
   "metadata": {
    "variables": {
     " espessura_corte ": "29.25",
     " numero_tabuas ": "7",
     " rendimento_maximo_real ": "63",
     "-espessura_corte-": "<p><strong>SyntaxError</strong>: invalid syntax (<ipython-input-22-f67f04895beb>, line 1)</p>\n",
     "-numero_tabuas-": "<p><strong>SyntaxError</strong>: invalid syntax (<ipython-input-22-85b81197a967>, line 1)</p>\n",
     "-rendimento_maximo_real-": "<p><strong>SyntaxError</strong>: invalid syntax (<ipython-input-22-3f8f7236e85b>, line 1)</p>\n"
    }
   },
   "source": [
    "##### $e_c = $ {{ espessura_corte }} $_{mm}$\n",
    "\n",
    "##### $N^o tábuas = $ {{ numero_tabuas }} tábuas\n",
    "\n",
    "![Diagrama](4-2-diagrama-exemplo-solucao.png)\n",
    "\n",
    "##### $R_{end_{máx}} = $ {{ rendimento_maximo_real }} %"
   ]
  },
  {
   "cell_type": "markdown",
   "metadata": {},
   "source": [
    "#### Volume e o rendimento máximo em madeira serrada (tábuas) normalizada"
   ]
  },
  {
   "cell_type": "code",
   "execution_count": 22,
   "metadata": {},
   "outputs": [],
   "source": [
    "largura_normalizada = round(a * 1000 / 25) * 25\n",
    "\n",
    "comprimento_normalizado = round(round(c / 0.3) * 0.3,_round)"
   ]
  },
  {
   "cell_type": "markdown",
   "metadata": {
    "variables": {
     " c ": "2.75",
     " comprimento_normalizado ": "2.7",
     " comprimento_normalizado + 0.05 ": "2.75",
     " espessura / 1000 ": "0.02625",
     " espessura_normalizada ": "25",
     " largura ": "0.2121",
     " largura_normalizada ": "200",
     " largura_normalizada * 1.05 ": "210.0",
     " numero_tabuas ": "7",
     " round(a * 1000,_round) ": "212.1",
     " volume_pecas_bloco ": "0.1072",
     "-comprimento_normalizado-": "<p><strong>SyntaxError</strong>: invalid syntax (<ipython-input-23-8a425c1c326f>, line 1)</p>\n",
     "-espessura_normalizada-": "<p><strong>SyntaxError</strong>: invalid syntax (<ipython-input-23-5c58127824c9>, line 1)</p>\n",
     "-largura_normalizada-": "<p><strong>SyntaxError</strong>: invalid syntax (<ipython-input-23-b23c82869df6>, line 1)</p>\n",
     "-volume_pecas_bloco-": "<p><strong>SyntaxError</strong>: invalid syntax (<ipython-input-23-6215320acfe2>, line 1)</p>\n"
    }
   },
   "source": [
    "##### $e_n = $ {{ espessura_normalizada }} $_{mm}$\n",
    "\n",
    "$\\rightarrow$ {{ largura_normalizada }} + 5% = {{ largura_normalizada * 1.05 }} $\\lt$ {{ round(a * 1000,_round) }} $_{mm}$\n",
    "##### $\\rightarrow l_n = $ {{ largura_normalizada }} $_{mm}$\n",
    "\n",
    "\n",
    "$\\rightarrow$ {{ comprimento_normalizado }} $_{m}$ + 0.05$_{m}$ = {{ comprimento_normalizado + 0.05 }} > {{ comprimento_normalizado }}\n",
    "\n",
    "##### $\\rightarrow c_n = $ {{ comprimento_normalizado }} $_{m}$\n",
    "\n",
    "{{ numero_tabuas }} * ({{ espessura / 1000 }} * {{ largura }} * {{ c }}\n",
    "\n",
    "##### $V_{7_{peças bloco}} = $ {{ volume_pecas_bloco }} $_{m^3}$\n"
   ]
  },
  {
   "cell_type": "markdown",
   "metadata": {},
   "source": [
    "> This is the end"
   ]
  }
 ],
 "metadata": {
  "kernelspec": {
   "display_name": "Python 3",
   "language": "python",
   "name": "python3"
  },
  "language_info": {
   "codemirror_mode": {
    "name": "ipython",
    "version": 3
   },
   "file_extension": ".py",
   "mimetype": "text/x-python",
   "name": "python",
   "nbconvert_exporter": "python",
   "pygments_lexer": "ipython3",
   "version": "3.7.3"
  }
 },
 "nbformat": 4,
 "nbformat_minor": 2
}
