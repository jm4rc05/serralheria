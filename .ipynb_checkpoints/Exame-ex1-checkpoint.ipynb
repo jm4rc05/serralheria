{
 "cells": [
  {
   "cell_type": "code",
   "execution_count": 14,
   "metadata": {},
   "outputs": [],
   "source": [
    "_round = 4\n",
    "\n",
    "espessura = 59 # milimetros\n",
    "espessura_nominal = 57 # da tabela para folhasas\n",
    "largura = 235 # milimetros\n",
    "largura_nominal = int(235/25) * 25\n",
    "comprimento = 4.5 # metros\n",
    "comprimento_nominal = int(comprimento / 0.30) * 0.30\n",
    "\n",
    "pecas = 10000 # peças\n",
    "\n",
    "volume_real = round((espessura / 1000) * (largura / 1000) * comprimento,_round)\n",
    "\n",
    "volume_real_total = round(volume_real * pecas)\n",
    "\n",
    "volume_nominal = round((espessura_nominal / 1000) * (largura_nominal / 1000) * comprimento_nominal,_round)\n",
    "\n",
    "volume_nominal_total = round(volume_nominal * pecas)"
   ]
  },
  {
   "cell_type": "markdown",
   "metadata": {
    "variables": {
     " comprimento ": "4.5",
     " comprimento_nominal ": "4.5",
     " espessura ": "59",
     " espessura_nominal ": "57",
     " largura ": "235",
     " largura_nominal ": "225",
     " pecas ": "10000",
     " volume_1pca ": "0.0623925",
     " volume_nominal ": "0.0577",
     " volume_nominal_total ": "577",
     " volume_real ": "0.0624",
     " volume_real_total ": "624"
    }
   },
   "source": [
    "Volume real 1 peça = ({{ espessura }} / 1000)$_{m} \\times $ ({{ largura }} / 1000)$_{m} \\times $ {{ comprimento }}$_{m} = $ {{ volume_1pca }}\n",
    "\n",
    "Volume real total = {{ volume_real }} $ \\times $ {{ pecas }}\n",
    "\n",
    "Volume real total = {{ volume_real_total }}$_{m^3}$\n",
    "\n",
    "\n",
    "Volume nominal 1 peça = ({{ espessura_nominal }} / 1000)$_{m} \\times $ ({{ largura_nominal }} / 1000)$_{m} \\times $ {{ comprimento_nominal }}$_{m} = $ {{ volume_nominal }}\n",
    "\n",
    "Volume nominal total = {{ volume_nominal }} $ \\times $ {{ pecas }}\n",
    "\n",
    "Volume nominal total = {{ volume_nominal_total }}$_{m^3}$"
   ]
  }
 ],
 "metadata": {
  "kernelspec": {
   "display_name": "Python 3",
   "language": "python",
   "name": "python3"
  },
  "language_info": {
   "codemirror_mode": {
    "name": "ipython",
    "version": 3
   },
   "file_extension": ".py",
   "mimetype": "text/x-python",
   "name": "python",
   "nbconvert_exporter": "python",
   "pygments_lexer": "ipython3",
   "version": "3.7.3"
  }
 },
 "nbformat": 4,
 "nbformat_minor": 2
}
