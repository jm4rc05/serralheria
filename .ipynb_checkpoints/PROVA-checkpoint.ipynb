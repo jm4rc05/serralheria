{
 "cells": [
  {
   "cell_type": "markdown",
   "metadata": {},
   "source": [
    "# PROCESSAMENTO MECÂNICO DA MADEIRA - Prova NO 1 / 10/07/2020 (8:00h)\n",
    "\n",
    "## 2) Para uma serraria de serra de fita que desdobra toras de Pinus spp de 31cm de diâmetro menor, 35cm de diâmetro maior e 4,50m de comprimento, calcule:\n",
    "\n",
    "### a) O volume e o rendimento máximo que se pode obter (bloco mais peças laterais). Considere a largura de corte da serra de 2,5mm.\n",
    "#### (1,5 pontos)\n",
    "\n",
    "\n",
    "$$\n",
    "a = \\left( \\frac{D_2}{\\sqrt{2}} \\right)\n",
    "  = \\left( \\frac{35}{\\sqrt{2}} \\right)\n",
    "$$"
   ]
  },
  {
   "cell_type": "code",
   "execution_count": 135,
   "metadata": {},
   "outputs": [
    {
     "data": {
      "text/latex": [
       "$\\displaystyle a = 0.2474873734152916$"
      ],
      "text/plain": [
       "<IPython.core.display.Math object>"
      ]
     },
     "metadata": {},
     "output_type": "display_data"
    }
   ],
   "source": [
    "import math\n",
    "from IPython.display import display, Math\n",
    "\n",
    "D1 = 0.31\n",
    "D2 = 0.35\n",
    "\n",
    "a = D2 / sqrt(2)\n",
    "\n",
    "display(Math(r'a = {}'.format(a)))"
   ]
  },
  {
   "cell_type": "markdown",
   "metadata": {},
   "source": [
    "$$\n",
    "V_{b} = a^2 \\cdot c\n",
    "               = 0.24 \\cdot 4.5\n",
    "$$"
   ]
  },
  {
   "cell_type": "code",
   "execution_count": 136,
   "metadata": {},
   "outputs": [
    {
     "data": {
      "text/latex": [
       "$\\displaystyle V_b = 0.2756249999999999 m^3$"
      ],
      "text/plain": [
       "<IPython.core.display.Math object>"
      ]
     },
     "metadata": {},
     "output_type": "display_data"
    }
   ],
   "source": [
    "c = 4.5\n",
    "Vb = a**2 * c\n",
    "\n",
    "display(Math(r'V_b = {} m^3'.format(Vbm)))"
   ]
  },
  {
   "cell_type": "markdown",
   "metadata": {},
   "source": [
    "$$\n",
    "V_t = \\left[ \\frac{\\pi \\left( D_1^2 + D_2^2 \\right)}{8} \\right] \\cdot c\n",
    "$$"
   ]
  },
  {
   "cell_type": "code",
   "execution_count": 137,
   "metadata": {},
   "outputs": [
    {
     "data": {
      "text/latex": [
       "$\\displaystyle V_t = 0.3862980866670349$"
      ],
      "text/plain": [
       "<IPython.core.display.Math object>"
      ]
     },
     "metadata": {},
     "output_type": "display_data"
    }
   ],
   "source": [
    "Vt = ((math.pi * (D2**2 + D1**2)) / 8) * c\n",
    "\n",
    "display(Math(r'V_t = {}'.format(Vt)))"
   ]
  },
  {
   "cell_type": "markdown",
   "metadata": {},
   "source": [
    "$$\n",
    "R_e = \\left( \\frac{V_b}{V_t} \\cdot 100 \\right)\n",
    "$$"
   ]
  },
  {
   "cell_type": "code",
   "execution_count": 138,
   "metadata": {},
   "outputs": [
    {
     "data": {
      "text/latex": [
       "$\\displaystyle R_e = 71.35034045290823$"
      ],
      "text/plain": [
       "<IPython.core.display.Math object>"
      ]
     },
     "metadata": {},
     "output_type": "display_data"
    }
   ],
   "source": [
    "Re = (Vb / Vt) * 100\n",
    "\n",
    "display(Math(r'R_e = {}'.format(Re)))"
   ]
  },
  {
   "cell_type": "markdown",
   "metadata": {},
   "source": [
    "$$\n",
    "\\begin{align*}\n",
    "V_p =& \\; 4 \\left( x' \\cdot y \\right) \\cdot c \\rightarrow x' = x - b \\\\\n",
    "V_p =& \\; 4 \\left( (x - b) \\cdot y \\right) \\cdot c\n",
    "\\end{align*}\n",
    "$$\n",
    "\n",
    "$$\n",
    "\\begin{align*}\n",
    "x = R \\cos \\alpha - K & \\rightarrow R = \\frac{D_2}{2} = \\frac{0.31}{2} \\\\\n",
    "& \\rightarrow K = a / 2 \\\\\n",
    "& \\alpha = ???\n",
    "\\end{align*}\n",
    "$$"
   ]
  },
  {
   "cell_type": "code",
   "execution_count": 139,
   "metadata": {},
   "outputs": [
    {
     "data": {
      "text/latex": [
       "$\\displaystyle R = 0.155$"
      ],
      "text/plain": [
       "<IPython.core.display.Math object>"
      ]
     },
     "metadata": {},
     "output_type": "display_data"
    },
    {
     "data": {
      "text/latex": [
       "$\\displaystyle K = 0.1237436867076458$"
      ],
      "text/plain": [
       "<IPython.core.display.Math object>"
      ]
     },
     "metadata": {},
     "output_type": "display_data"
    }
   ],
   "source": [
    "R = 0.31 / 2\n",
    "\n",
    "display(Math(r'R = {}'.format(R)))\n",
    "\n",
    "K = a/2\n",
    "\n",
    "display(Math(r'K = {}'.format(K)))"
   ]
  },
  {
   "cell_type": "markdown",
   "metadata": {},
   "source": [
    "#### Cálculo de $\\alpha$\n",
    "\n",
    "$$\n",
    "\\begin{align*}\n",
    "A =& \\; x \\cdot y = \\left( R \\cdot \\cos \\alpha - K \\right) \\cdot \\left( 2R \\cdot \\sin \\alpha \\right) \\\\\n",
    "A_1 =& \\; \\left( R \\cdot \\cos \\alpha - K \\right) \\cdot \\left( 2R \\cdot \\cos \\alpha \\right) + \n",
    "\\left[ 2R \\sin \\alpha \\cdot \\left( - R \\sin \\alpha \\right) \\right] \\\\\n",
    "A_1 =& \\; 4R^2 \\cos^2 \\alpha - 2 K R \\cos \\alpha - 2 R^2\n",
    "\\end{align*}\n",
    "$$\n",
    "\n",
    "fazendo $z = \\cos \\alpha$:\n",
    "\n",
    "$$\n",
    "A_1 = 4R^2 z ^2 - 2kRz \\rightarrow A_1 = \\frac{2kR \\pm \\sqrt{\\left( 4k^2 \\cdot R^2 \\right) 32R^4}}{8R^2}\n",
    "$$"
   ]
  },
  {
   "cell_type": "code",
   "execution_count": 140,
   "metadata": {},
   "outputs": [
    {
     "data": {
      "text/latex": [
       "$\\displaystyle \\alpha = 25.09$"
      ],
      "text/plain": [
       "<IPython.core.display.Math object>"
      ]
     },
     "metadata": {},
     "output_type": "display_data"
    },
    {
     "data": {
      "text/latex": [
       "$\\displaystyle x = (0.155 * cos25.09 - 0.1237436867076458)$"
      ],
      "text/plain": [
       "<IPython.core.display.Math object>"
      ]
     },
     "metadata": {},
     "output_type": "display_data"
    },
    {
     "data": {
      "text/latex": [
       "$\\displaystyle x = 31.114756865071065mm$"
      ],
      "text/plain": [
       "<IPython.core.display.Math object>"
      ]
     },
     "metadata": {},
     "output_type": "display_data"
    },
    {
     "data": {
      "text/latex": [
       "$\\displaystyle x1 = 0.031114756865071064 - 0.0025$"
      ],
      "text/plain": [
       "<IPython.core.display.Math object>"
      ]
     },
     "metadata": {},
     "output_type": "display_data"
    },
    {
     "data": {
      "text/latex": [
       "$\\displaystyle x1 = 28.614756865071065mm$"
      ],
      "text/plain": [
       "<IPython.core.display.Math object>"
      ]
     },
     "metadata": {},
     "output_type": "display_data"
    },
    {
     "data": {
      "text/latex": [
       "$\\displaystyle y = 2 * 0.155 * sin25.09$"
      ],
      "text/plain": [
       "<IPython.core.display.Math object>"
      ]
     },
     "metadata": {},
     "output_type": "display_data"
    },
    {
     "data": {
      "text/latex": [
       "$\\displaystyle y = 132.45747126631062$"
      ],
      "text/plain": [
       "<IPython.core.display.Math object>"
      ]
     },
     "metadata": {},
     "output_type": "display_data"
    },
    {
     "data": {
      "text/latex": [
       "$\\displaystyle V_p = 4 * (0.028614756865071065 * 0.13245747126631063) * 4.5$"
      ],
      "text/plain": [
       "<IPython.core.display.Math object>"
      ]
     },
     "metadata": {},
     "output_type": "display_data"
    },
    {
     "data": {
      "text/latex": [
       "$\\displaystyle V_p = 0.06822429003445708$"
      ],
      "text/plain": [
       "<IPython.core.display.Math object>"
      ]
     },
     "metadata": {},
     "output_type": "display_data"
    },
    {
     "data": {
      "text/latex": [
       "$\\displaystyle R_m = ((0.2756249999999999 + 0.06822429003445708) / 0.3862980866670349) * 100$"
      ],
      "text/plain": [
       "<IPython.core.display.Math object>"
      ]
     },
     "metadata": {},
     "output_type": "display_data"
    },
    {
     "data": {
      "text/latex": [
       "$\\displaystyle R_m = 89.01138832997478$"
      ],
      "text/plain": [
       "<IPython.core.display.Math object>"
      ]
     },
     "metadata": {},
     "output_type": "display_data"
    }
   ],
   "source": [
    "alpha = 25.09\n",
    "\n",
    "display(Math(r'\\alpha = {}'.format(alpha)))\n",
    "\n",
    "x = (R * math.cos(alpha) - K)\n",
    "\n",
    "display(Math(r'x = ({} * cos{} - {})'.format(R, alpha, K)))\n",
    "\n",
    "display(Math(r'x = {}mm'.format(x * 1000)))\n",
    "\n",
    "b = 0.0025\n",
    "x1 = x - b\n",
    "\n",
    "display(Math(r'x1 = {} - {}'.format(x, b)))\n",
    "\n",
    "display(Math(r'x1 = {}mm'.format(x1 * 1000)))\n",
    "\n",
    "y = abs(2 * R * math.sin(alpha)) * 10\n",
    "\n",
    "display(Math(r'y = 2 * {} * sin{}'.format(R, alpha)))\n",
    "\n",
    "display(Math(r'y = {}'.format(y * 1000)))\n",
    "\n",
    "Vp = 4 * (x1 * y) * c\n",
    "\n",
    "display(Math(r'V_p = 4 * ({} * {}) * {}'.format(x1, y, c)))\n",
    "\n",
    "display(Math(r'V_p = {}'.format(Vp)))\n",
    "\n",
    "Rm = ((Vb + Vp) / Vt) * 100\n",
    "\n",
    "display(Math(r'R_m = (({} + {}) / {}) * 100'.format(Vb, Vp, Vt)))\n",
    "\n",
    "display(Math(r'R_m = {}'.format(Rm)))"
   ]
  },
  {
   "cell_type": "markdown",
   "metadata": {},
   "source": [
    "## O Rendimento máximo de 89%\n",
    "\n",
    "#### Normalização das tábuas do bloco\n",
    "\n",
    "$e_c = e_n + S_e + b$"
   ]
  },
  {
   "cell_type": "code",
   "execution_count": 153,
   "metadata": {},
   "outputs": [
    {
     "data": {
      "text/latex": [
       "$\\displaystyle e_n = 16mm$"
      ],
      "text/plain": [
       "<IPython.core.display.Math object>"
      ]
     },
     "metadata": {},
     "output_type": "display_data"
    },
    {
     "data": {
      "text/latex": [
       "$\\displaystyle S_e = 5.0\\%$"
      ],
      "text/plain": [
       "<IPython.core.display.Math object>"
      ]
     },
     "metadata": {},
     "output_type": "display_data"
    },
    {
     "data": {
      "text/latex": [
       "$\\displaystyle e_c = 16mm + 0.8mm + 2.5mm$"
      ],
      "text/plain": [
       "<IPython.core.display.Math object>"
      ]
     },
     "metadata": {},
     "output_type": "display_data"
    },
    {
     "data": {
      "text/latex": [
       "$\\displaystyle ec = 19.3$"
      ],
      "text/plain": [
       "<IPython.core.display.Math object>"
      ]
     },
     "metadata": {},
     "output_type": "display_data"
    }
   ],
   "source": [
    "en = 16\n",
    "Se = 0.05\n",
    "\n",
    "display(Math(r'e_n = {}mm'.format(en)))\n",
    "\n",
    "display(Math(r'S_e = {}\\%'.format(Se * 100)))\n",
    "\n",
    "ec = en + (Se * en) + b * 1000\n",
    "\n",
    "display(Math(r'e_c = {}mm + {}mm + {}mm'.format(en, Se * en, b * 1000)))\n",
    "\n",
    "display(Math(r'ec = {}'.format(ec)))"
   ]
  },
  {
   "cell_type": "markdown",
   "metadata": {},
   "source": [
    "$$\n",
    "N_t = \\frac{a}{e_c}\n",
    "$$"
   ]
  },
  {
   "cell_type": "code",
   "execution_count": 179,
   "metadata": {},
   "outputs": [
    {
     "data": {
      "text/latex": [
       "$\\displaystyle Nt = 247.4873734152916 \\; / \\; 19.3$"
      ],
      "text/plain": [
       "<IPython.core.display.Math object>"
      ]
     },
     "metadata": {},
     "output_type": "display_data"
    },
    {
     "data": {
      "text/latex": [
       "$\\displaystyle Nt = 12$"
      ],
      "text/plain": [
       "<IPython.core.display.Math object>"
      ]
     },
     "metadata": {},
     "output_type": "display_data"
    },
    {
     "data": {
      "text/latex": [
       "$\\displaystyle e = 16 * 0.05$"
      ],
      "text/plain": [
       "<IPython.core.display.Math object>"
      ]
     },
     "metadata": {},
     "output_type": "display_data"
    },
    {
     "data": {
      "text/latex": [
       "$\\displaystyle V12 = 12 \\cdot 0.016800000000000002m \\cdot 0.2474873734152916m \\cdot 4.5m$"
      ],
      "text/plain": [
       "<IPython.core.display.Math object>"
      ]
     },
     "metadata": {},
     "output_type": "display_data"
    },
    {
     "data": {
      "text/latex": [
       "$\\displaystyle V12 = 0.22452054516235256$"
      ],
      "text/plain": [
       "<IPython.core.display.Math object>"
      ]
     },
     "metadata": {},
     "output_type": "display_data"
    },
    {
     "data": {
      "text/latex": [
       "$\\displaystyle R_r = ((0.06822429003445708 + 0.22452054516235256) \\; / \\; 0.3862980866670349) * 100$"
      ],
      "text/plain": [
       "<IPython.core.display.Math object>"
      ]
     },
     "metadata": {},
     "output_type": "display_data"
    },
    {
     "data": {
      "text/latex": [
       "$\\displaystyle R_r = 75.7821085065683$"
      ],
      "text/plain": [
       "<IPython.core.display.Math object>"
      ]
     },
     "metadata": {},
     "output_type": "display_data"
    }
   ],
   "source": [
    "Nt = int(a * 1000 / ec)\n",
    "\n",
    "display(Math(r'Nt = {} \\; / \\; {}'.format(a * 1000, ec)))\n",
    "\n",
    "display(Math(r'Nt = {}'.format(Nt)))\n",
    "\n",
    "e = en * (1 + Se) / 1000\n",
    "\n",
    "display(Math(r'e = {} * {}'.format(en, Se)))\n",
    "\n",
    "l = a\n",
    "\n",
    "V12 = 12 * e * l * c\n",
    "\n",
    "display(Math(r'V12 = 12 \\cdot {}m \\cdot {}m \\cdot {}m'.format(e, l, c)))\n",
    "\n",
    "display(Math(r'V12 = {}'.format(V12)))\n",
    "\n",
    "Rr = ((Vp + V12) / Vt) * 100\n",
    "\n",
    "display(Math(r'R_r = (({} + {}) \\; / \\; {}) * 100'.format(Vp, V12, Vt)))\n",
    "\n",
    "display(Math(r'R_r = {}'.format(Rr)))"
   ]
  },
  {
   "cell_type": "markdown",
   "metadata": {},
   "source": [
    "## Rendimento real de madeira verde é de 75%"
   ]
  },
  {
   "cell_type": "markdown",
   "metadata": {},
   "source": [
    "> This is the end"
   ]
  }
 ],
 "metadata": {
  "kernelspec": {
   "display_name": "Python 3",
   "language": "python",
   "name": "python3"
  },
  "language_info": {
   "codemirror_mode": {
    "name": "ipython",
    "version": 3
   },
   "file_extension": ".py",
   "mimetype": "text/x-python",
   "name": "python",
   "nbconvert_exporter": "python",
   "pygments_lexer": "ipython3",
   "version": "3.7.3"
  }
 },
 "nbformat": 4,
 "nbformat_minor": 2
}
