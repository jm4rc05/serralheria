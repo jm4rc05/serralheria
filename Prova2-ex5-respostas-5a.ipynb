{
 "cells": [
  {
   "cell_type": "markdown",
   "metadata": {},
   "source": [
    "# 2 - Características e Parâmetros Básicos da Serra de Fita\n",
    "\n",
    "## j) Velocidade de corte da serra ($V_c$)\n",
    "\n",
    "### Exercício\n",
    "\n",
    "Calcular a espessura da serra (a), a velocidade de corte da serra, as rotações da polia do volante inferior da serra e as rotações do volante superior e inferior da serra, se: $rotações.polia.motor = 1300_{rpm}$; $\\varnothing_{polia.motor} = 32_{cm}$; $\\varnothing_{polia.volante} = 36_{cm}$; $D_v = 1.10_{m}$. Calcular também a potência de corte da serra, se: $t’= 0.7 x 10-3_{m}$; $b = 2.5_{mm}$; $V_a = 0.26_{m/seg}; $h_c = 0.25_{m}$.\n",
    "\n",
    "![Diagrama](8-2-diagrama1-exemplo.png)\n",
    "\n",
    "#### Dados"
   ]
  },
  {
   "cell_type": "code",
   "execution_count": 1,
   "metadata": {},
   "outputs": [],
   "source": [
    "import math\n",
    "\n",
    "n1 = 1300 # RPMs\n",
    "D1 = 32   # centímetros\n",
    "D2 = 36   # centímetros\n",
    "Dv = 1.1  # metros\n",
    "\n",
    "_round = 4"
   ]
  },
  {
   "cell_type": "markdown",
   "metadata": {},
   "source": [
    "#### Solução"
   ]
  },
  {
   "cell_type": "code",
   "execution_count": 2,
   "metadata": {},
   "outputs": [],
   "source": [
    "n2 = round(n1 * D1 / D2)\n",
    "Vc = round(math.pi * Dv * n2 / 60,_round)"
   ]
  },
  {
   "cell_type": "markdown",
   "metadata": {
    "variables": {
     " D1 ": "32",
     " D2 ": "36",
     " Dv ": "1.1",
     " Vc ": "66.5808",
     " n1 ": "1300",
     " n2 ": "1156",
     "-D1-": "<p><strong>SyntaxError</strong>: invalid syntax (<ipython-input-3-e74223a02093>, line 1)</p>\n",
     "-D2-": "<p><strong>SyntaxError</strong>: invalid syntax (<ipython-input-3-7eaf1554a642>, line 1)</p>\n",
     "-Dv-": "<p><strong>SyntaxError</strong>: invalid syntax (<ipython-input-3-fedd565df472>, line 1)</p>\n",
     "-Vc-": "<p><strong>SyntaxError</strong>: invalid syntax (<ipython-input-3-e856701ed4c1>, line 1)</p>\n",
     "-n1-": "<p><strong>SyntaxError</strong>: invalid syntax (<ipython-input-3-d3997e59f5e9>, line 1)</p>\n",
     "-n2-": "<p><strong>SyntaxError</strong>: invalid syntax (<ipython-input-3-2a4ac64c12ed>, line 1)</p>\n"
    }
   },
   "source": [
    "##### $n_2 = $ {{ n1 }} $\\times$ {{ D1 }} $/$ {{ D2 }}\n",
    "$n_2 = $ {{ n2 }}\n",
    "\n",
    "##### $V_c = \\pi \\times$ {{ Dv }} $\\times$ {{ n2 }} $/ 60 = $ {{ Vc }}$_{m/seg}$"
   ]
  },
  {
   "cell_type": "markdown",
   "metadata": {},
   "source": [
    "## l) Cálculo de características da serra de fita\n",
    "\n",
    "a) Calcular a espessura da serra ($a$), a largura da serra ($B$), o comprimento da serra ($L$) se $l_0 = 2.12_{m}$, a altura de corte da máquina ($h_{cs}$) e diâmetro máximo da tora que pode ser desdobrada ($D_m$), a largura de corte ($b$), velocidade de corte da serra e as rotações do volante superior e inferior, se: $n_1 = 1000_{rpm}$; $D_1 = 30_{cm}$; $D_2 = 36_{cm}$; $D_v = 1.10_{m}$; largura do volante ($W = 12_{cm}$); altura do dente ($h_d = 25_{mm}$, dimensões da tora ($\\varnothing_{menor} = 30_{cm}$; $\\varnothing_{maior} = 36_{cm}$; madeira de Pinus de densidade média).\n",
    "\n",
    "### Dados"
   ]
  },
  {
   "cell_type": "code",
   "execution_count": 3,
   "metadata": {},
   "outputs": [],
   "source": [
    "l0 = 2.12   # metros\n",
    "n1 = 1300   # RPMs\n",
    "D1 = 32     # centímetros\n",
    "D2 = 36     # centímetros\n",
    "Dv = 1.1    # metros\n",
    "W = 12      # centímetros\n",
    "hd = 25     # milímetros\n",
    "Dmenor = 30 # centímetros\n",
    "Dmaior = 36 # centímetros"
   ]
  },
  {
   "cell_type": "markdown",
   "metadata": {},
   "source": [
    "### Solução\n",
    "\n",
    "#### Espessura da serra (a)"
   ]
  },
  {
   "cell_type": "code",
   "execution_count": 4,
   "metadata": {},
   "outputs": [],
   "source": [
    "a = Dv / 1000"
   ]
  },
  {
   "cell_type": "markdown",
   "metadata": {
    "variables": {
     " a ": "0.0011",
     " a * 1000 ": "1.1"
    }
   },
   "source": [
    "$a = $ {{ a }}$_{m}$ = {{ a * 1000 }}$_{mm}$"
   ]
  },
  {
   "cell_type": "markdown",
   "metadata": {},
   "source": [
    "#### Largura da serra (B)"
   ]
  },
  {
   "cell_type": "code",
   "execution_count": 5,
   "metadata": {},
   "outputs": [],
   "source": [
    "B = W * 10 + hd + 5"
   ]
  },
  {
   "cell_type": "markdown",
   "metadata": {
    "variables": {
     " B ": "150",
     " B / 10 ": "15.0"
    }
   },
   "source": [
    "$B = $ {{ B }}$_{mm}$ = {{ B / 10 }}$_{cm}$"
   ]
  },
  {
   "cell_type": "markdown",
   "metadata": {},
   "source": [
    "#### Comprimento da serra (L)"
   ]
  },
  {
   "cell_type": "code",
   "execution_count": 6,
   "metadata": {},
   "outputs": [],
   "source": [
    "L = round(math.pi * Dv + 2 * l0,_round)"
   ]
  },
  {
   "cell_type": "markdown",
   "metadata": {
    "variables": {
     " Dv ": "1.1",
     " L ": "7.6958",
     " l0 ": "2.12"
    }
   },
   "source": [
    "$L = \\pi \\times $ {{ Dv }} $ + 2 \\times $ {{ l0 }} $ = $ {{ L }}"
   ]
  },
  {
   "cell_type": "markdown",
   "metadata": {},
   "source": [
    "#### Altura de corte da máquina ($h_{cs}$)"
   ]
  },
  {
   "cell_type": "code",
   "execution_count": 7,
   "metadata": {},
   "outputs": [],
   "source": [
    "hcs = l0 - (0.75 * Dv) "
   ]
  },
  {
   "cell_type": "markdown",
   "metadata": {
    "variables": {
     " Dv ": "1.1",
     " hcs ": "1.295",
     " l0 ": "2.12"
    }
   },
   "source": [
    "$h_{cs} = $ {{ l0 }} $ - (0.75 \\times $ {{ Dv }} $) = $ {{ hcs }}$_{m}$"
   ]
  },
  {
   "cell_type": "markdown",
   "metadata": {},
   "source": [
    "#### Diâmetro máximo da tora ($D_m$)"
   ]
  },
  {
   "cell_type": "code",
   "execution_count": 8,
   "metadata": {},
   "outputs": [],
   "source": [
    "Dm = hcs"
   ]
  },
  {
   "cell_type": "markdown",
   "metadata": {
    "variables": {
     " Dm ": "1.295",
     " hcs ": "1.295"
    }
   },
   "source": [
    "$D_m = 1.0 \\times $ {{ hcs }}$_{m} = $ {{ Dm }}$_{m}$"
   ]
  },
  {
   "cell_type": "markdown",
   "metadata": {},
   "source": [
    "#### Largura do dente da serra ($b$)"
   ]
  },
  {
   "cell_type": "code",
   "execution_count": 9,
   "metadata": {},
   "outputs": [],
   "source": [
    "b = round(2.1 * a * 1000,_round)"
   ]
  },
  {
   "cell_type": "markdown",
   "metadata": {
    "variables": {
     " a ": "0.0011",
     " b ": "2.31"
    }
   },
   "source": [
    "$b = 2.1 \\times $ {{ a }} $ = $ {{ b }}$_{mm}$"
   ]
  },
  {
   "cell_type": "markdown",
   "metadata": {},
   "source": [
    "#### Velocidade de corte e rotações"
   ]
  },
  {
   "cell_type": "code",
   "execution_count": 10,
   "metadata": {},
   "outputs": [],
   "source": [
    "n2 = round(n1 * D1 / D2)\n",
    "Vc = round(math.pi * Dv * n2 / 60,_round)"
   ]
  },
  {
   "cell_type": "markdown",
   "metadata": {
    "variables": {
     " D1 ": "32",
     " D2 ": "36",
     " Dv ": "1.1",
     " Vc ": "66.5808",
     " n1 ": "1300",
     " n2 ": "1156",
     "-D1-": "<p><strong>SyntaxError</strong>: invalid syntax (<ipython-input-11-e74223a02093>, line 1)</p>\n",
     "-D2-": "<p><strong>SyntaxError</strong>: invalid syntax (<ipython-input-11-7eaf1554a642>, line 1)</p>\n",
     "-Dv-": "<p><strong>SyntaxError</strong>: invalid syntax (<ipython-input-11-fedd565df472>, line 1)</p>\n",
     "-Vc-": "<p><strong>SyntaxError</strong>: invalid syntax (<ipython-input-11-e856701ed4c1>, line 1)</p>\n",
     "-n1-": "<p><strong>SyntaxError</strong>: invalid syntax (<ipython-input-11-d3997e59f5e9>, line 1)</p>\n",
     "-n2-": "<p><strong>SyntaxError</strong>: invalid syntax (<ipython-input-11-2a4ac64c12ed>, line 1)</p>\n"
    }
   },
   "source": [
    "##### $n_2 = $ {{ n1 }}$_{RPMs} \\times$ {{ D1 }}$_{cm} / $ {{ D2 }}$_{cm}$\n",
    "$n_2 = $ {{ n2 }}$_{RPMs}$\n",
    "\n",
    "##### $V_c = \\pi \\times$ {{ Dv }}$_{m} \\times$ {{ n2 }}$_{RPMs} / 60 = $ {{ Vc }}$_{m/seg}$\n",
    "\n",
    "##### $n_{volante.superior} = $ {{ n2 }}$_{RPMs}$\n",
    "##### $n_{volante.inferior} = $ {{ n2 }}$_{RPMs}$"
   ]
  },
  {
   "cell_type": "markdown",
   "metadata": {},
   "source": [
    "> This is the end"
   ]
  }
 ],
 "metadata": {
  "kernelspec": {
   "display_name": "Python 3",
   "language": "python",
   "name": "python3"
  },
  "language_info": {
   "codemirror_mode": {
    "name": "ipython",
    "version": 3
   },
   "file_extension": ".py",
   "mimetype": "text/x-python",
   "name": "python",
   "nbconvert_exporter": "python",
   "pygments_lexer": "ipython3",
   "version": "3.7.3"
  }
 },
 "nbformat": 4,
 "nbformat_minor": 2
}
