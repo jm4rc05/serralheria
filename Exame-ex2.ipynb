{
 "cells": [
  {
   "cell_type": "code",
   "execution_count": 31,
   "metadata": {},
   "outputs": [],
   "source": [
    "import math\n",
    "\n",
    "_round = 4\n",
    "\n",
    "numero_tabuas = 15\n",
    "espessura_nominal = 16 # milimetros\n",
    "largura_nominal = 175 # milimetros\n",
    "comprimento_real = 4.8 # metros\n",
    "comprimento_nominal = int(comprimento_real / 0.30) * 0.30\n",
    "largura_corte = 2.5 # milimetros\n",
    "\n",
    "diametro_maior = 39 # centimetros\n",
    "\n",
    "sobremedida_espessura = 2 # sobreespessura para contratação folhosas\n",
    "sobremedida_largura = 10 # sobrelargura para contratação folhosas\n",
    "\n",
    "aresta_sem_perda = numero_tabuas * (espessura_nominal + sobremedida_espessura) + (numero_tabuas - 1) * largura_corte\n",
    "\n",
    "largura = largura_nominal + sobremedida_largura\n",
    "\n",
    "diametro_menor = round(math.sqrt((aresta_sem_perda / 10)**2 + (largura / 10)**2),_round)"
   ]
  },
  {
   "cell_type": "markdown",
   "metadata": {
    "variables": {
     " aresta_sem_perda ": "305.0",
     " aresta_sem_perda / 10 ": "30.5",
     " diametro_menor ": "35.6721",
     " espessura_nominal ": "16",
     " largura ": "185",
     " largura / 10 ": "18.5",
     " largura_corte ": "2.5",
     " largura_nominal ": "175",
     " numero_tabuas ": "15",
     " sobremedida_espessura ": "2",
     " sobremedida_largura ": "10",
     "-diametro_menor-": "<p><strong>SyntaxError</strong>: invalid syntax (<ipython-input-32-3dce6c17a254>, line 1)</p>\n"
    }
   },
   "source": [
    "### Solução\n",
    "\n",
    "Sobremedida espessura = {{ espessura_nominal }}$_{mm} + 2 = $ {{ sobremedida_espessura }}$_{mm}$\n",
    "\n",
    "Sobremedida largura = {{ largura_nominal }}$_{mm} + 2 = $ {{ sobremedida_largura }}$_{mm}$\n",
    "\n",
    "\n",
    "$a' = $ {{ numero_tabuas }} $\\times$ ( {{ espessura_nominal }} $+$ {{ sobremedida_espessura }} $) + ($ {{ numero_tabuas }}  $ - 1) \\times $ {{ largura_corte }} $ = $ {{ aresta_sem_perda }} $_{mm}$ ou {{ aresta_sem_perda / 10 }} $_{cm}$\n",
    "\n",
    "$l = $ {{ largura }} $_{mm}$ ou  {{ largura / 10 }} $_{cm}$\n",
    "\n",
    "#### Diâmetro = {{ diametro_menor }} $_{cm}$"
   ]
  },
  {
   "cell_type": "code",
   "execution_count": 32,
   "metadata": {},
   "outputs": [],
   "source": [
    "espessura = espessura_nominal + sobremedida_espessura + largura_corte\n",
    "\n",
    "volume_real = round((espessura / 1000) * (largura / 1000) * comprimento_real,_round)\n",
    "\n",
    "volume_real_total = round(volume_real * numero_tabuas,_round)\n",
    "\n",
    "volume_nominal = round((espessura_nominal / 1000) * (largura_nominal / 1000) * comprimento_nominal,_round)\n",
    "\n",
    "volume_nominal_total = round(volume_nominal * numero_tabuas,_round)"
   ]
  },
  {
   "cell_type": "markdown",
   "metadata": {
    "variables": {
     " comprimento_nominal ": "4.8",
     " comprimento_real ": "4.8",
     " espessura ": "20.5",
     " espessura_nominal ": "16",
     " largura ": "185",
     " largura_corte": "2.5",
     " largura_nominal ": "175",
     " numero_tabuas ": "15",
     " sobremedida_espessura ": "2",
     " volume_nominal ": "0.0134",
     " volume_nominal_total ": "0.201",
     " volume_real ": "0.0182",
     " volume_real_total ": "0.273",
     "-volume_nominal_total-": "<p><strong>SyntaxError</strong>: invalid syntax (<ipython-input-33-32fcfec08f74>, line 1)</p>\n",
     "-volume_real_total-": "<p><strong>SyntaxError</strong>: invalid syntax (<ipython-input-33-825d0c421073>, line 1)</p>\n"
    }
   },
   "source": [
    "Espessura = {{ espessura_nominal }}$_{mm}$ +  {{ sobremedida_espessura }}$_{mm}$ + {{ largura_corte}}$_{mm}$\n",
    "\n",
    "Volume real 1 peça = ({{ espessura }} / 1000)$_{m} \\times $ ({{ largura }} / 1000)$_{m} \\times $ {{ comprimento_real }}$_{m} = $ {{ volume_real }}\n",
    "\n",
    "Volume real total = {{ volume_real }} $ \\times $ {{ numero_tabuas }}\n",
    "\n",
    "#### Volume real total = {{ volume_real_total }}$_{m^3}$\n",
    "\n",
    "\n",
    "Volume nominal 1 peça = ({{ espessura_nominal }} / 1000)$_{m} \\times $ ({{ largura_nominal }} / 1000)$_{m} \\times $ {{ comprimento_nominal }}$_{m} = $ {{ volume_nominal }}\n",
    "\n",
    "Volume nominal total = {{ volume_nominal }} $ \\times $ {{ numero_tabuas }}\n",
    "\n",
    "#### Volume nominal total = {{ volume_nominal_total }}$_{m^3}$"
   ]
  },
  {
   "cell_type": "code",
   "execution_count": 43,
   "metadata": {},
   "outputs": [],
   "source": [
    "alpha = 25.09  # constante\n",
    "\n",
    "diametro_maior_m = round(diametro_maior / 1000,_round)\n",
    "diametro_menor_m = round(diametro_menor / 1000,_round)\n",
    "\n",
    "volume_tora = round((math.pi * (diametro_maior_m**2 + diametro_menor_m**2) / 8) * comprimento_real,_round)\n",
    "\n",
    "a = round((diametro_menor / math.sqrt(2)) / 1000,_round)\n",
    "\n",
    "volume_bloco_maximo = round(a**2 * comprimento_real,_round)\n",
    "\n",
    "rendimento = round((volume_bloco_maximo / volume_tora) * 100)"
   ]
  },
  {
   "cell_type": "markdown",
   "metadata": {
    "variables": {
     " a ": "0.0252",
     " comprimento_real ": "4.8",
     " diametro_maior_m ": "0.039",
     " diametro_menor_m ": "0.0357",
     " rendimento ": "57",
     " volume_bloco_maximo ": "0.003",
     " volume_tora ": "0.0053"
    }
   },
   "source": [
    "Volume tora $ = ( \\pi \\times $ {{ diametro_maior_m }} $^2 ) / 4 \\times $ {{ comprimento_real }} $ = $ {{ volume_tora }}$_{m^3}$\n",
    "\n",
    "a = ( {{ diametro_menor_m }}$_{m} / \\sqrt{2} ) = $ {{ a }}$_{m}$\n",
    "\n",
    "Volume bloco máximo $ = $ {{ a }}$_{m}^{2} \\times $ {{ comprimento_real }}$_{m}$ = {{ volume_bloco_maximo }}$_{m^2}$\n",
    "\n",
    "Rendimento real $ = ( $ {{ volume_bloco_maximo }}$_{m^2} / $ {{ volume_tora }}$_{m^3} ) \\times 100 \\approx $ {{ rendimento }}$\\%$"
   ]
  },
  {
   "cell_type": "markdown",
   "metadata": {},
   "source": [
    "> This is the end"
   ]
  }
 ],
 "metadata": {
  "kernelspec": {
   "display_name": "Python 3",
   "language": "python",
   "name": "python3"
  },
  "language_info": {
   "codemirror_mode": {
    "name": "ipython",
    "version": 3
   },
   "file_extension": ".py",
   "mimetype": "text/x-python",
   "name": "python",
   "nbconvert_exporter": "python",
   "pygments_lexer": "ipython3",
   "version": "3.7.3"
  }
 },
 "nbformat": 4,
 "nbformat_minor": 2
}
