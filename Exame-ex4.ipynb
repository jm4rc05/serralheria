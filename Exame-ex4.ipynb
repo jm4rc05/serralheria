{
 "cells": [
  {
   "cell_type": "code",
   "execution_count": 22,
   "metadata": {},
   "outputs": [],
   "source": [
    "import math \n",
    "\n",
    "_round = 4\n",
    "\n",
    "rotacao_volante = 454\n",
    "b = 2.5 / 1000\n",
    "h = round(26 / 100,_round)\n",
    "va = round(20 / 60,_round)\n",
    "\n",
    "vc = round((math.pi * 1 * rotacao_volante) / 60,_round)\n",
    "\n",
    "t_linha = round((5/1000 * va) / vc,_round)\n",
    "\n",
    "ks = 43 * 10**6\n",
    "\n",
    "NC = round(ks * b * h * va,_round)"
   ]
  },
  {
   "cell_type": "markdown",
   "metadata": {
    "variables": {
     " NC ": "9315.735",
     " b ": "0.0025",
     " h ": "0.26",
     " va ": "0.3333"
    }
   },
   "source": [
    "NC $ = 43\\times 10^6 \\; \\times $ {{ b }} $ \\times $ {{ h }} $ \\times $ {{ va }} $ = $ {{ NC }}"
   ]
  },
  {
   "cell_type": "code",
   "execution_count": 31,
   "metadata": {},
   "outputs": [],
   "source": [
    "rotacao_volante = 454\n",
    "b = 2.5 / 1000\n",
    "h = round(26 / 100,_round)\n",
    "va = round(16 / 60,_round)\n",
    "\n",
    "vc = round((math.pi * 1 * rotacao_volante) / 60,_round)\n",
    "\n",
    "t_linha = round((5/1000 * va) / vc,_round)\n",
    "\n",
    "ks = 43 * 10**6\n",
    "\n",
    "NC = round(ks * b * h * va,_round)\n",
    "\n",
    "NP = (NC / 1000 + 3) / 0.9"
   ]
  },
  {
   "cell_type": "markdown",
   "metadata": {
    "variables": {
     " NC ": "7454.265",
     " NP ": "11.61585",
     " b ": "0.0025",
     " h ": "0.26",
     " va ": "0.2667"
    }
   },
   "source": [
    "NC $ = 43\\times 10^6 \\; \\times $ {{ b }} $ \\times $ {{ h }} $ \\times $ {{ va }} $ = $ {{ NC }}\n",
    "\n",
    "NP $ = $ {{ NP }}"
   ]
  },
  {
   "cell_type": "code",
   "execution_count": 40,
   "metadata": {},
   "outputs": [],
   "source": [
    "rotacao_volante = 454\n",
    "b = 2.5 / 1000\n",
    "h = round(21 / 100,_round)\n",
    "va = round(20 / 60,_round)\n",
    "\n",
    "vc = round((math.pi * 1 * rotacao_volante) / 60,_round)\n",
    "\n",
    "t_linha = round((5/1000 * va) / vc,_round)\n",
    "\n",
    "ks = 43 * 10**6\n",
    "\n",
    "NC = round(ks * b * h * va,_round)\n",
    "\n",
    "NP = (NC / 1000 + 3) / 0.9"
   ]
  },
  {
   "cell_type": "markdown",
   "metadata": {
    "variables": {
     " NC ": "7524.2475",
     " NP ": "11.693608333333335",
     " b ": "0.0025",
     " h ": "0.21",
     " va ": "0.3333"
    }
   },
   "source": [
    "NC $ = 43\\times 10^6 \\; \\times $ {{ b }} $ \\times $ {{ h }} $ \\times $ {{ va }} $ = $ {{ NC }}\n",
    "\n",
    "NP $ = $ {{ NP }}"
   ]
  },
  {
   "cell_type": "markdown",
   "metadata": {},
   "source": [
    "> This is the end"
   ]
  }
 ],
 "metadata": {
  "kernelspec": {
   "display_name": "Python 3",
   "language": "python",
   "name": "python3"
  },
  "language_info": {
   "codemirror_mode": {
    "name": "ipython",
    "version": 3
   },
   "file_extension": ".py",
   "mimetype": "text/x-python",
   "name": "python",
   "nbconvert_exporter": "python",
   "pygments_lexer": "ipython3",
   "version": "3.7.3"
  }
 },
 "nbformat": 4,
 "nbformat_minor": 2
}
