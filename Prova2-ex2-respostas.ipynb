{
 "cells": [
  {
   "cell_type": "markdown",
   "metadata": {},
   "source": [
    "# 4.2 - Cálculo de produtividade de máquinas de desdobro\n",
    "\n",
    "## a) Avanço contínuo da madeira\n",
    "\n",
    "$$\n",
    "P = \\frac{T \\times V_a \\times k}{c} \\qquad \\left( \\frac{toras}{turno} \\right)\n",
    "$$\n",
    "\n",
    "onde:\n",
    "\n",
    "* $P \\rightarrow$ *produtividade (número de toras por turno)*;\n",
    "* $T \\rightarrow$ *duração do turno (minutos)*;\n",
    "* $V_a \\rightarrow$ *velocidade de avanço da madeira ou do sistema de alimentação (metros/minuto)*;\n",
    "* $c \\rightarrow$ *comprimento da madeira (tora, bloco) a desdobrar (metros)*; e\n",
    "* $k \\rightarrow$ *coeficiente de aproveitamento do tempo de trabalho (%)*.\n",
    "\n",
    "$$\n",
    "k \\approx 80\\%\n",
    "$$\n",
    "\n",
    "### Cálculo da velocidade de avanço da madeira:\n",
    "\n",
    "$$\n",
    "V = \\frac{d}{t} \\rightarrow V_a = \\frac{c}{t}\n",
    "$$\n",
    "\n",
    "onde:\n",
    "\n",
    "* $d \\rightarrow$ *distância*;\n",
    "* $c \\rightarrow$ *comprimento da tora ou bloco (d = c)*; e\n",
    "* $t \\rightarrow$ *tempo (cálculo do tempo que a tora ou bloco é cortada em uma passagem)*.\n",
    "\n",
    "#### Exemplo\n",
    "\n",
    "Calcular a produtividade de uma serra de fita dupla principal (fluxograma abaixo) se o plano de desdobro considera somente um corte na primeira passagem, a velocidade de avanço da madeira é de $10_{m/min}$, o comprimento da tora de $4.2_{m}$ e $k = 80\\%$.\n",
    "\n",
    "![Diagrama](5-4-2-diagrama1-exemplo.png)"
   ]
  },
  {
   "cell_type": "code",
   "execution_count": 1,
   "metadata": {},
   "outputs": [],
   "source": [
    "velocidade = 10 # m/min\n",
    "k = 0.8         # %\n",
    "c = 4.2         # m\n",
    "produtividade = round(8 * 60 * velocidade * k / c)"
   ]
  },
  {
   "cell_type": "markdown",
   "metadata": {
    "variables": {
     " c ": "4.2",
     " k ": "0.8",
     " produtividade ": "914",
     " velocidade ": "10"
    }
   },
   "source": [
    "$\\therefore P = 8 \\times 60 \\times $ {{ velocidade }} $ \\times $ {{ k }} $ / $ {{ c }} $ = $ {{ produtividade }} (toras/turno)\n",
    "\n",
    "#### Exemplo\n",
    "\n",
    "Calcular a produtividade de uma serra circular múltipla, segundo o plano de corte (abaixo), se $V_a = 5_{m/min}$; $c_{bloco} = 2.50_m$; $k = 80\\%$.\n",
    "\n",
    "![Diagrama](5-4-2-diagrama2-exemplo.png)"
   ]
  },
  {
   "cell_type": "code",
   "execution_count": 2,
   "metadata": {},
   "outputs": [],
   "source": [
    "velocidade = 5 # m/min\n",
    "k = 0.8        # %\n",
    "c = 2.5        # m\n",
    "produtividade = round(8 * 60 * velocidade * k / c)"
   ]
  },
  {
   "cell_type": "markdown",
   "metadata": {
    "variables": {
     " c ": "2.5",
     " k ": "0.8",
     " produtividade ": "768",
     " velocidade ": "5"
    }
   },
   "source": [
    "$\\therefore P = 8 \\times 60 \\times $ {{ velocidade }} $ \\times $ {{ k }} $ / $ {{ c }} $ = $ {{ produtividade }} (toras/turno)"
   ]
  },
  {
   "cell_type": "markdown",
   "metadata": {},
   "source": [
    "## b) Avanço descontínuo da madeira (avanço com carro)\n",
    "\n",
    "![Diagrama](5-4-2-diagrama3-exemplo.png)\n",
    "\n",
    "$$\n",
    "P = \\frac{T \\times k}{t} \\qquad \\left( \\frac{toras}{turno} \\right)\n",
    "$$\n",
    "\n",
    "onde:\n",
    "\n",
    "* $P \\rightarrow$ *produtividade (número de toras por turno)*;\n",
    "* $T \\rightarrow$ *duração do turno (minutos)*;\n",
    "* $k \\rightarrow$ *coeficiente de aproveitamento do tempo de trabalho (%) - ($k \\approx 80\\%$)*; e\n",
    "* $t \\rightarrow$ *tempo total de desdobro de uma tora (min)*.\n",
    "\n",
    "por sua vez:\n",
    "\n",
    "$(t = t_1 + t_2 + t_3 + t_4 + t_5 + t_6 + t_7)$\n",
    "\n",
    "onde:\n",
    "\n",
    "* $t_1 \\rightarrow$ *tempo de carregamento da tora ao carro*;\n",
    "* $t_2 \\rightarrow$ *tempo de fixação da tora ao carro*;\n",
    "* $t_3 \\rightarrow$ *tempo de alinhamento da tora para o corte*;\n",
    "* $t_4 \\rightarrow$ *tempo que demora a serra em corte ($n^o$ de corte $\\times$ tempo de cada passagem)*;\n",
    "* $t_5 \\rightarrow$ *tempo que demora a serra em cada retorno após cada corte ($n^o$ retornos $\\times$ tempo de cada retorno)*;\n",
    "* $t_6 \\rightarrow$ *tempo de giro da tora após para os próximos cortes*; e\n",
    "* $t_7 \\rightarrow$ *tempo para liberar o bloco final o resto de madeira serrada e vltar à posição original*.\n",
    "\n",
    "### Esquema do percorrido do carro porta-toras no desdobro com serra de fita\n",
    "\n",
    "![Diagrama](5-4-2-diagrama4-exemplo.png)\n",
    "\n",
    "onde:\n",
    "\n",
    "* $V_a \\rightarrow$ *velocidade de avanço do carro ou $V_a$*;\n",
    "* $V_{rc} \\rightarrow$ *velocidade de retorno ou retrocesso do carro(a velocidade de retorno é geralmente 50% mais rápida que a velocidade de avanço)*;\n",
    "* $z \\rightarrow$ *no de cortes feitos na tora*;\n",
    "* $z’ \\rightarrow$ *no de retornos ou retrocessos do carro*; e\n",
    "* $s \\rightarrow$ *distância percorrida pelo carro em um corte e distância percorrida pelo carro no retorno (m)*.\n",
    "\n",
    "#### Cálculo de $t_4$\n",
    "\n",
    "\\begin{align*}\n",
    "V = & \\frac{d}{t} \\rightarrow t = \\frac{d}{V} \\\\\n",
    "    & V_a \\\\\n",
    "t = & t_4 \\\\\n",
    "d = & S \\quad (para \\; um \\; corte) \\\\\n",
    "    & (S + z) \\quad (para \\; todos \\; os \\; cortes)\n",
    "\\end{align*}\n",
    "\n",
    "$$\n",
    "\\therefore t_4 = \\frac{(s \\times z)}{V_a}\n",
    "$$\n",
    "\n",
    "#### Cálculo de $t_5$\n",
    "\n",
    "\\begin{align*}\n",
    "V = & \\frac{d}{t} \\rightarrow t = \\frac{d}{V} \\\\\n",
    "    & V_{rt} \\\\\n",
    "t = & t_5 \\\\\n",
    "d = & S \\quad (para \\; um \\; retorno) \\\\\n",
    "    & (S + z') \\quad (para \\; todos \\; os \\; retornos)\n",
    "\\end{align*}\n",
    "\n",
    "$$\n",
    "\\therefore t_4 = \\frac{(s \\times z')}{V_{rt}}\n",
    "$$\n",
    "\n",
    "### Exemplo\n",
    "\n",
    "Calcular a produtividade de uma serra de fita simples com carro porta-toras em um turno de trabalho, se o plano de corte prevê a produção de blocos de dimensões máximas. A velocidade de avanço do carro é de $20_{m/min}$, distância percorrida pelo carro em um corte $S = 6.4_{m}$, $(t_1 + t_2 + t_3 = 17_{s})$, $(t_6 = 30_{s} – 3_{giros})$, $(t_7 = 6_{s})$, comprimento da tora $4.20_{m}$ e $k = 80\\%$.\n",
    "\n",
    "![Diagrama](5-4-2-diagrama5-exemplo.png)\n",
    "\n",
    "#### Dados"
   ]
  },
  {
   "cell_type": "code",
   "execution_count": 6,
   "metadata": {},
   "outputs": [],
   "source": [
    "# EXERCÍCIO 2 DA PROVA\n",
    "\n",
    "Va = 0.22 * 60 # metros por minuto\n",
    "s = 7.7        # metros\n",
    "t123 = 17      # segundos\n",
    "t6 = 18        # 1 giros = 18 segundos\n",
    "t7 = 13        # segundos\n",
    "c = 6.0        # metros\n",
    "k = 0.86       # %\n",
    "z = 21         # cortes\n",
    "z_linha = 21   # retornos\n",
    "\n",
    "_round = 4"
   ]
  },
  {
   "cell_type": "markdown",
   "metadata": {},
   "source": [
    "#### Solução"
   ]
  },
  {
   "cell_type": "code",
   "execution_count": 7,
   "metadata": {},
   "outputs": [],
   "source": [
    "t4 = round((s * z) / Va,_round)\n",
    "Vrc = round(Va * 1.5)\n",
    "t5 = round(s * z_linha / Vrc,_round)\n",
    "t = t123 + t4 * 60 + round(t5 * 60) + t6 + t7\n",
    "P = round(((8 * 60 * 60) * k) / t)"
   ]
  },
  {
   "cell_type": "markdown",
   "metadata": {
    "variables": {
     " P ": "20",
     " Va ": "13.2",
     " Vrc ": "20",
     " round(t5 * 60) ": "485",
     " s ": "7.7",
     " t ": "1268.0",
     " t123 ": "17",
     " t4 ": "12.25",
     " t4 * 60 ": "735.0",
     " t5 ": "8.085",
     " t6 ": "18",
     " t7 ": "13",
     " z ": "21",
     " z_linha ": "21",
     "-Va-": "<p><strong>SyntaxError</strong>: invalid syntax (<ipython-input-8-520247b49071>, line 1)</p>\n",
     "-Vrc-": "<p><strong>SyntaxError</strong>: invalid syntax (<ipython-input-8-d1f19061c80a>, line 1)</p>\n",
     "-round(t5-*-60)-": "<p><strong>SyntaxError</strong>: invalid syntax (<ipython-input-8-6dc58d88152b>, line 1)</p>\n",
     "-s-": "<p><strong>SyntaxError</strong>: invalid syntax (<ipython-input-8-7c03d3a6f1d1>, line 1)</p>\n",
     "-t-": "<p><strong>SyntaxError</strong>: invalid syntax (<ipython-input-8-3ceada362968>, line 1)</p>\n",
     "-t123-": "<p><strong>SyntaxError</strong>: invalid syntax (<ipython-input-8-f2b2757002ba>, line 1)</p>\n",
     "-t4-*-60-": "<p><strong>SyntaxError</strong>: invalid syntax (<ipython-input-8-1d532ffb78c5>, line 1)</p>\n",
     "-t6-": "<p><strong>SyntaxError</strong>: invalid syntax (<ipython-input-8-4f9e8fb6b681>, line 1)</p>\n",
     "-t7-": "<p><strong>SyntaxError</strong>: invalid syntax (<ipython-input-8-ed7c3b2d9c81>, line 1)</p>\n",
     "-z-": "<p><strong>SyntaxError</strong>: invalid syntax (<ipython-input-8-0b9fbc5736f8>, line 1)</p>\n",
     "-z_linha-": "<p><strong>SyntaxError</strong>: invalid syntax (<ipython-input-8-e5f830b29a71>, line 1)</p>\n"
    }
   },
   "source": [
    "##### $t_4 = $ (( {{ s }} $\\times$ {{ z }} ) / {{ Va }}\n",
    "$t_4 = $ {{ t4 }}$_{min}$ ou {{ t4 * 60 }}$_{seg}$\n",
    "\n",
    "##### $V_{rc} = $ {{ Va }} $+ 50\\% = $ {{ Vrc }}$_{m/min}$\n",
    "\n",
    "##### $t_5 = $ (  {{ s }} $\\times$ {{ z_linha }} ) / {{ Vrc }} \n",
    "$t_5 = $ {{ t5 }}$_{min}$ = {{ round(t5 * 60) }}$_{seg}$\n",
    "\n",
    "##### $t = t_1 + t_2 + t_3 + t_4 + t_5 + t_6 + t_7 = $ {{ t123 }}$_{seg} + $ {{ t4 * 60 }}$_{seg} + $ {{ round(t5 * 60) }}$_{seg} + $ {{ t6 }}$_{seg} + $ {{ t7 }}$_{seg} = $ {{ t }}$_{seg}$\n",
    "$\\therefore P = (T \\times k) / t = ((8_h \\times 60_{min} \\times 60_{seg}) \\times 0.8) / $ {{ t }}$_{seg} \\approx $ {{ P }} (toras/turno)\n",
    "\n",
    "### Exemplo\n",
    "\n",
    "Calcular a produtividade de uma serra de fita simples com carro porta-toras eletromecânico em um turno de trabalho, se o plano de corte prevê $15$ cortes e três giros da tora. A velocidade de avanço do carro é de $10_{m/min}$, distância percorrida pelo carro em um corte $S = 7.8_{m}$, $(t_1 + t_2 + t_3 = 17_{seg})$, $(t_6 = 30_{seg}$ – 3 giros), $(t_7 = 6_{seg})$, comprimento da tora $5.40_{m}$, $\\varnothing_{tora} = 28_{cm}$ e $k = 80\\%$.\n",
    "\n",
    "![Diagrama](5-4-2-diagrama6-exemplo.png)\n",
    "\n",
    "#### Dados"
   ]
  },
  {
   "cell_type": "code",
   "execution_count": 5,
   "metadata": {},
   "outputs": [],
   "source": [
    "Va = 10      # metros por minuto\n",
    "s = 7.8      # metros\n",
    "z = 15       # cortes\n",
    "z_linha = 15 # retornos\n",
    "t123 = 17    # segundos\n",
    "t6 = 30      # 3 giros = 30 segundos\n",
    "t7 = 6       # segundos"
   ]
  },
  {
   "cell_type": "markdown",
   "metadata": {},
   "source": [
    "#### Solução"
   ]
  },
  {
   "cell_type": "code",
   "execution_count": 6,
   "metadata": {},
   "outputs": [],
   "source": [
    "t4 = s * z / Va\n",
    "Vrc = Va * 1.5\n",
    "t5 = round(s * z_linha / Vrc,_round)\n",
    "t = t123 + t4 * 60 + round(t5 * 60) + t6 + t7\n",
    "P = round(((8 * 60 * 60) * k) / t)"
   ]
  },
  {
   "cell_type": "markdown",
   "metadata": {
    "variables": {
     " P ": "19",
     " Va ": "10",
     " Vrc ": "15.0",
     " round(t4 * 60) ": "702",
     " round(t5 * 60) ": "468",
     " s ": "7.8",
     " t ": "1223.0",
     " t123 ": "17",
     " t4 ": "11.7",
     " t4 * 60 ": "702.0",
     " t5 ": "7.8",
     " t6 ": "30",
     " t7 ": "6",
     " z ": "15",
     " z_linha ": "15",
     "-Va-": "<p><strong>SyntaxError</strong>: invalid syntax (<ipython-input-7-520247b49071>, line 1)</p>\n",
     "-Vrc-": "<p><strong>SyntaxError</strong>: invalid syntax (<ipython-input-7-d1f19061c80a>, line 1)</p>\n",
     "-round(t4-*-60)-": "<p><strong>SyntaxError</strong>: invalid syntax (<ipython-input-7-c9d7cc80c8dd>, line 1)</p>\n",
     "-round(t5-*-60)-": "<p><strong>SyntaxError</strong>: invalid syntax (<ipython-input-7-6dc58d88152b>, line 1)</p>\n",
     "-s-": "<p><strong>SyntaxError</strong>: invalid syntax (<ipython-input-7-7c03d3a6f1d1>, line 1)</p>\n",
     "-t-": "<p><strong>SyntaxError</strong>: invalid syntax (<ipython-input-7-3ceada362968>, line 1)</p>\n",
     "-t123-": "<p><strong>SyntaxError</strong>: invalid syntax (<ipython-input-7-f2b2757002ba>, line 1)</p>\n",
     "-t4-": "<p><strong>SyntaxError</strong>: invalid syntax (<ipython-input-7-54165d5558e4>, line 1)</p>\n",
     "-t4-*-60-": "<p><strong>SyntaxError</strong>: invalid syntax (<ipython-input-7-1d532ffb78c5>, line 1)</p>\n",
     "-t5-": "<p><strong>SyntaxError</strong>: invalid syntax (<ipython-input-7-1c00d50ae85f>, line 1)</p>\n",
     "-t6-": "<p><strong>SyntaxError</strong>: invalid syntax (<ipython-input-7-4f9e8fb6b681>, line 1)</p>\n",
     "-t7-": "<p><strong>SyntaxError</strong>: invalid syntax (<ipython-input-7-ed7c3b2d9c81>, line 1)</p>\n",
     "-z-": "<p><strong>SyntaxError</strong>: invalid syntax (<ipython-input-7-0b9fbc5736f8>, line 1)</p>\n",
     "-z_linha-": "<p><strong>SyntaxError</strong>: invalid syntax (<ipython-input-7-e5f830b29a71>, line 1)</p>\n"
    }
   },
   "source": [
    "##### $t_4 = ( $ {{ s }}$_{m}$ $\\times$ {{ z }}$_{cortes}$ ) $/$ {{ Va }}$_{m/min}$ $=$ {{ t4 }}$_{min}$ $=$ {{ round(t4 * 60) }}$_{seg}$\n",
    "\n",
    "##### $V_{rc} = $ {{ Va }}$_{m/min} + 50\\% = $ {{ Vrc }}$_{m/min}$\n",
    "\n",
    "##### $t_5 = $ {{ s }}$_{m} \\times $ {{ z_linha }}$_{retornos} / $ {{ Vrc }}$_{m/min} = $ {{ t5 }}$_{min}$ = {{ round(t5 * 60) }}$_{seg}$\n",
    "\n",
    "##### $t = t_1 + t_2 + t_3 + t_4 + t_5 + t_6 + t_7 = $ {{ t123 }}$_{seg} + $ {{ t4 * 60 }}$_{seg} + $ {{ round(t5 * 60) }}$_{seg} + $ {{ t6 }}$_{seg} + $ {{ t7 }}$_{seg} = $ {{ t }}$_{seg}$\n",
    "$\\therefore P = (T \\times k) / t = ((8_h \\times 60_{min} \\times 60_{seg}) \\times 0.8) / $ {{ t }}$_{seg} \\approx $ {{ P }} (toras/turno)"
   ]
  },
  {
   "cell_type": "markdown",
   "metadata": {},
   "source": [
    "> This is the end"
   ]
  }
 ],
 "metadata": {
  "kernelspec": {
   "display_name": "Python 3",
   "language": "python",
   "name": "python3"
  },
  "language_info": {
   "codemirror_mode": {
    "name": "ipython",
    "version": 3
   },
   "file_extension": ".py",
   "mimetype": "text/x-python",
   "name": "python",
   "nbconvert_exporter": "python",
   "pygments_lexer": "ipython3",
   "version": "3.7.3"
  }
 },
 "nbformat": 4,
 "nbformat_minor": 2
}
