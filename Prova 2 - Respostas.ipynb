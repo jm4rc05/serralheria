{
 "cells": [
  {
   "cell_type": "markdown",
   "metadata": {},
   "source": [
    "<h1> Prova 2 </h1>\n",
    "\n",
    "<h2> Exercício 1 </h2>\n",
    "\n",
    "<h3> Questão a) </h3>\n",
    "\n",
    "![Resposta](Prova2-ex1-resposta1a.png)\n",
    "\n",
    "<h3> Questão b) </h3>\n",
    "\n",
    "![Resposta](Prova2-ex1-resposta1b.png)\n",
    "\n",
    "<h3> Questão 3) </h3>\n",
    "\n",
    "![Resposta](Prova2-ex1-resposta1c.png)\n",
    "\n",
    "<h2> Exercício 2 </h2>\n",
    "\n",
    "![Resposta](Prova2-ex2-resposta.png)\n",
    "\n",
    "<h2> Exercício 5 </h2>\n",
    "\n",
    "![Resposta](Prova2-ex5-resposta1.png)\n",
    "\n",
    "![Resposta](Prova2-ex5-resposta2.png)\n",
    "\n",
    "![Resposta](Prova2-ex5-resposta3.png)"
   ]
  },
  {
   "cell_type": "markdown",
   "metadata": {},
   "source": [
    "> This is the end"
   ]
  }
 ],
 "metadata": {
  "kernelspec": {
   "display_name": "Python 3",
   "language": "python",
   "name": "python3"
  },
  "language_info": {
   "codemirror_mode": {
    "name": "ipython",
    "version": 3
   },
   "file_extension": ".py",
   "mimetype": "text/x-python",
   "name": "python",
   "nbconvert_exporter": "python",
   "pygments_lexer": "ipython3",
   "version": "3.7.3"
  }
 },
 "nbformat": 4,
 "nbformat_minor": 2
}
