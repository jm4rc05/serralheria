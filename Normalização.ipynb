{
 "cells": [
  {
   "cell_type": "code",
   "execution_count": 102,
   "metadata": {},
   "outputs": [],
   "source": [
    "from IPython.display import Markdown as md\n",
    "\n",
    "_round = 4"
   ]
  },
  {
   "cell_type": "markdown",
   "metadata": {},
   "source": [
    "# Cálculo de normalização (conífera)\n",
    "\n",
    "Volume nominal de 800 peças de madeira de Pinus recém serradas, com as seguintes dimensões: 28mm x 270mm x 4,10m.\n",
    "\n",
    "> *Informe nas variáveis abaixo os valores do enunciado e calcule os volumes com o restante do programa*"
   ]
  },
  {
   "cell_type": "code",
   "execution_count": 103,
   "metadata": {},
   "outputs": [],
   "source": [
    "pecas = 800\n",
    "espessura = 28           # milimetros\n",
    "largura = 270            # milimetros\n",
    "comprimento = 4.1        # metros"
   ]
  },
  {
   "cell_type": "markdown",
   "metadata": {
    "variables": {
     " espessura ": "28"
    }
   },
   "source": [
    "\n",
    "| SOBREMEDIDAS PARA COMPENSAR A CONTRAÇÃO |\n",
    "|---|\n",
    "| Recomenda-se uma sobreespessura e <br/> sobrelargura de 5% maior que a espessura e largura nominal |\n",
    "\n",
    "Da tabela de normas, espessura para coníferas:\n",
    "\n",
    "> 12-16-19-22*-**25**-32-36*-38-40*-44*-50-63*-75-100\n",
    "\n",
    "Da norma acima, escolha a espessura adequada conforme o anunciado (tem que ser menor que {{ espessura }}$_{mm}$)\n",
    "\n",
    "> **Se escolher um número maior vai dar zero no resultado final, porém se escolher um número muito pequeno irá apenas acusar valores pequenos!!!**\n",
    "\n",
    "Sobremedida permitida na espessura: 2$_{mm}$\n",
    "\n",
    "Sobremedida permitida na largura: 5$_{mm}$\n",
    "\n",
    "Sobremedida permitida no comprimento: 0.05$_{m}$ (comprimento maior que 1,8$_{m}$"
   ]
  },
  {
   "cell_type": "code",
   "execution_count": 104,
   "metadata": {},
   "outputs": [],
   "source": [
    "espessura_da_norma = 25"
   ]
  },
  {
   "cell_type": "code",
   "execution_count": 106,
   "metadata": {},
   "outputs": [],
   "source": [
    "# NORMALIZAÇÃO\n",
    "\n",
    "# Cálculo da espessura nominal\n",
    "espessura_calculada = espessura_da_norma * 1.05\n",
    "espessura_nominal = espessura_da_norma if espessura_calculada < espessura else 0\n",
    "\n",
    "# Cáculo da largura nominal\n",
    "largura_calculada1 = largura / 25                                       # em múltiplos de 25 milímetros\n",
    "largura_calculada2 = int(largura_calculada1)\n",
    "largura_calculada3 = largura_calculada2 * 25                            # em múltiplos de 25 milímetros\n",
    "largura_calculada4 = largura_calculada3 * 1.05                          # adiciona 5%\n",
    "largura_nominal = largura_calculada3 if largura_calculada3 < largura else 0\n",
    "\n",
    "# Cálculo do comprimento nominal\n",
    "comprimento_calculado1 = round(comprimento / 0.3,_round)                # em múltiplos de 30 centímetros\n",
    "comprimento_calculado2 = int(comprimento_calculado1)\n",
    "comprimento_calculado3 = round(comprimento_calculado2 * 0.3,_round)     # em múltiplos de 30 centímetros\n",
    "comprimento_calculado4 = round(comprimento_calculado3 + 0.05,_round)    # fixo em 5 centímetros\n",
    "comprimento_nominal = comprimento_calculado3 if comprimento_calculado4 < comprimento else 0\n",
    "\n",
    "# Cálculo do volume nominal\n",
    "volume_nominal = round(pecas * ((espessura_nominal / 1000) * (largura_nominal / 1000) * comprimento_nominal),_round)\n",
    "\n",
    "# Cálculo do volume real\n",
    "volume_real = round(pecas * ((espessura / 1000) * (largura / 1000) * comprimento),_round)\n",
    "\n",
    "# Diferença do volume\n",
    "diferenca = round(volume_real - volume_nominal,_round)\n",
    "\n",
    "# Percentual de diferença do volume\n",
    "percentual_diferenca = round((diferenca / volume_real) * 100,_round)\n",
    "\n",
    "# SOBREMEDIDAS\n",
    "\n",
    "# Sobremedida na espessura\n",
    "\n",
    "sobremedida_espessura = round(espessura - round(espessura_nominal + espessura_da_norma * 0.05,_round),_round)"
   ]
  },
  {
   "cell_type": "markdown",
   "metadata": {
    "variables": {
     " comprimento ": "4.1",
     " comprimento_calculado1 ": "13.6667",
     " comprimento_calculado3 ": "3.9",
     " comprimento_calculado4 ": "3.95",
     " comprimento_nominal ": "3.9",
     " diferenca ": "5.2968",
     " espessura ": "28",
     " espessura_calculada ": "26.25",
     " espessura_da_norma ": "25",
     " espessura_nominal ": "25",
     " largura ": "270",
     " largura_calculada1 ": "10.8",
     " largura_calculada3 ": "250",
     " largura_calculada4 ": "262.5",
     " largura_nominal ": "250",
     " pecas ": "800",
     " percentual_diferenca ": "21.3608",
     " sobremedida_espessura ": "1.75",
     " volume_nominal ": "19.5",
     " volume_real ": "24.7968"
    }
   },
   "source": [
    "## Respostas:\n",
    "\n",
    "### Normalização\n",
    "\n",
    "Espessura nominal é: {{ espessura_da_norma }} + 5% (para compensar contração) $\\rightarrow$ {{ espessura_calculada }} (em *milímetros*)\n",
    "\n",
    "{{ espessura_nominal }} < {{ espessura }} $\\therefore$ a **Espessura nominal** é {{ espessura_nominal }}$_{mm}$\n",
    "\n",
    "\n",
    "Largura nominal é: {{ largura }} / 25 = {{ largura_calculada1 }} $\\times$ 25 = {{ largura_calculada3 }} + 5% (para compensar contração) $\\rightarrow$ {{ largura_calculada4 }}\n",
    "\n",
    "{{ largura_calculada4 }} < {{ largura }} $\\therefore$ a **Largura nominal** é {{ largura_nominal }}$_{mm}$\n",
    "\n",
    "\n",
    "Comprimento nominal é: {{ comprimento }} / 0.3 = {{ comprimento_calculado1 }} $\\times$ 0.3 = {{ comprimento_calculado3 }} + 0.05 (sobrecomprimento normal máximo) $\\rightarrow$ {{ comprimento_calculado4 }}\n",
    "\n",
    "{{ comprimento_calculado4 }} < {{ comprimento }} $\\therefore$ o **Comprimento nominal** é {{ comprimento_nominal }}$_m$\n",
    "\n",
    "\n",
    "O **Volume nominal** é: {{ pecas }}$_{pcs}$ $\\times$ ({{ espessura_nominal }}$_{mm}$ $\\times$ {{ largura_nominal }}$_{mm}$ $\\times$ {{ comprimento_nominal }}$_m$) = {{ volume_nominal }}$_{m^3}$\n",
    "\n",
    "\n",
    "O **Volume real** é: {{ pecas }}$_{pcs}$ $\\times$ ({{ espessura }}$_{mm}$ $\\times$ {{ largura }}$_{mm}$ $\\times$ {{ comprimento }}$_m$) = {{ volume_real }}$_{m^3}$\n",
    "\n",
    "\n",
    "Diferença do volume de madeira real (verde) e nominal é: {{ volume_real }}$_{m^3}$ - {{ volume_nominal }}$_{m^3}$ = {{ diferenca }}$_{m^3}$\n",
    "\n",
    "Percentual de diferença é ({{ diferenca }}$_{m^3}$ / {{ volume_real }}$_{m^3}$) $\\times$ 100 = {{ percentual_diferenca }}%\n",
    "\n",
    "### Sobremedidas\n",
    "\n",
    "Sobremedida: {{ espessura }}$_{mm}$ - ({{ espessura_da_norma }}$_{mm}$ + 5%) = {{ sobremedida_espessura }}$_{mm}$\n",
    "\n",
    "{{ sobremedida_espessura }}$_{mm}$ < 2$_{mm}$ $\\therefore$ **Dentro da exigência da norma**"
   ]
  },
  {
   "cell_type": "markdown",
   "metadata": {},
   "source": [
    "> This is the end"
   ]
  }
 ],
 "metadata": {
  "kernelspec": {
   "display_name": "Python 3",
   "language": "python",
   "name": "python3"
  },
  "language_info": {
   "codemirror_mode": {
    "name": "ipython",
    "version": 3
   },
   "file_extension": ".py",
   "mimetype": "text/x-python",
   "name": "python",
   "nbconvert_exporter": "python",
   "pygments_lexer": "ipython3",
   "version": "3.7.3"
  }
 },
 "nbformat": 4,
 "nbformat_minor": 2
}
