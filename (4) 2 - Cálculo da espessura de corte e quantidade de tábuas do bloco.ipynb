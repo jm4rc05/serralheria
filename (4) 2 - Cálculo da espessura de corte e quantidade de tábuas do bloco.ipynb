{
 "cells": [
  {
   "cell_type": "markdown",
   "metadata": {},
   "source": [
    "# 2 - Cálculo da espessura de corte e quantidade de tábuas do bloco\n",
    "\n",
    "![Diagrama](4-2-diagrama.png)\n",
    "\n",
    "## Espessura de corte\n",
    "\n",
    "$$\n",
    "e_c = e_n + S_e + b\n",
    "$$\n",
    "\n",
    "## Quantidade de tábuas do bloco (ou número de cortes)\n",
    "\n",
    "$$\n",
    "N^o cortes = \\frac{a}{e_c}\n",
    "$$\n",
    "\n",
    "ou\n",
    "\n",
    "$$\n",
    "N^o tábuas = \\frac{a}{e_c}\n",
    "$$\n",
    "\n",
    "onde:\n",
    "\n",
    "* $S_e \\rightarrow $ *sobredimensão da espessura*;\n",
    "* $b \\rightarrow $ *largura de corte da serra*;\n",
    "* $e_n \\rightarrow $ *espessura nominal*; e\n",
    "* $e_c \\rightarrow $ *espessura de corte*.\n",
    "\n",
    "\n",
    "## Exemplo\n",
    "\n",
    "Partindo do volume e o rendimento “máximo” de madeira serrada (bloco + peças laterais) que se obtém de uma tora de Pinus sem casca com as seguintes dimensões: $D_1 = 35_{cm}$; $D_2 = 30_{cm}$; $c = 2.75_{m}$; $b = 3_{mm}$, calcular o volume e o rendimento máximo (real) em madeira serrada (tábuas laterais e do bloco) que se pode obter da tora, considerando uma $e_n = 25_{mm}$ (para as tábuas do bloco). Calcular também o volume e o rendimento máximo em madeira serrada (tábuas) normalizada. Considere $S_e = 5\\%$ da $e_n$ e $b = 3_{mm}$."
   ]
  },
  {
   "cell_type": "code",
   "execution_count": 1,
   "metadata": {},
   "outputs": [],
   "source": [
    "# Dados do cálculo do volume máximo obtido no notebook 1\n",
    "# ------------------------------------------------------------------------------------------------------\n",
    "D1 = 35        # centímetros\n",
    "D2 = 30        # centímetros\n",
    "c = 2.75       # metros\n",
    "b = 3          # milímetros\n",
    "\n",
    "alpha = 25.09  # constante obtida acima\n",
    "# ------------------------------------------------------------------------------------------------------\n",
    "\n",
    "# Dados deste exemplo\n",
    "espessura_normalizada = 25                             # milímetros\n",
    "sobredimensao_espessura = espessura_normalizada * 0.05 # 5% de espessura_normalizada\n",
    "largura_corte_serra = 3                                # milímetros"
   ]
  },
  {
   "cell_type": "markdown",
   "metadata": {},
   "source": [
    "### Solução\n",
    "\n",
    "#### Volume e rendimento máximo (real)"
   ]
  },
  {
   "cell_type": "code",
   "execution_count": 2,
   "metadata": {},
   "outputs": [],
   "source": [
    "# Solução do cálculo do volume máximo obtido no notebook 1\n",
    "# ------------------------------------------------------------------------------------------------------\n",
    "import math\n",
    "\n",
    "_round = 4\n",
    "\n",
    "a = round((D2 / math.sqrt(2)) / 100,_round)\n",
    "volume_bloco_maximo = round(a**2 * c,_round)\n",
    "volume_tora = round((math.pi * (D1**2 / 100 + D2**2 / 100) / 8) * c / 100,_round)\n",
    "rendimento = round((volume_bloco_maximo / volume_tora) * 100,_round)\n",
    "\n",
    "R = round(D2 / 2 / 100,_round)\n",
    "K = round(a / 2,_round)\n",
    "x = round((R * math.cos(math.radians(alpha)) - K) * 1000,_round)\n",
    "x_linha = x - b\n",
    "\n",
    "y = round(2 * R * math.sin(math.radians(alpha)) * 1000,_round)\n",
    "\n",
    "volume_4_pecas_laterais = round(4 * (x_linha / 1000 * y / 1000) * c,_round)\n",
    "\n",
    "rendimento_maximo = round(((volume_bloco_maximo + volume_4_pecas_laterais) / volume_tora) * 100,_round)\n",
    "# ------------------------------------------------------------------------------------------------------\n",
    "\n",
    "# Solução deste exemplo\n",
    "espessura_corte = espessura_normalizada + sobredimensao_espessura + largura_corte_serra\n",
    "numero_tabuas = round(a * 1000 / espessura_corte)\n",
    "\n",
    "espessura = espessura_normalizada * 1.05\n",
    "\n",
    "largura = a\n",
    "\n",
    "volume_pecas_bloco = round(numero_tabuas * (espessura / 1000 * largura * c),_round)\n",
    "\n",
    "rendimento_maximo_real = round(((volume_4_pecas_laterais + volume_pecas_bloco) / volume_tora) * 100)"
   ]
  },
  {
   "cell_type": "markdown",
   "metadata": {
    "variables": {
     " espessura_corte ": "29.25",
     " numero_tabuas ": "7",
     " rendimento_maximo_real ": "63",
     " volume_pecas_bloco ": "0.1072",
     "-espessura_corte-": "<p><strong>SyntaxError</strong>: invalid syntax (<ipython-input-17-f67f04895beb>, line 1)</p>\n",
     "-numero_tabuas-": "<p><strong>SyntaxError</strong>: invalid syntax (<ipython-input-17-85b81197a967>, line 1)</p>\n",
     "-rendimento_maximo_real-": "<p><strong>SyntaxError</strong>: invalid syntax (<ipython-input-17-3f8f7236e85b>, line 1)</p>\n",
     "-volume_pecas_bloco-": "<p><strong>SyntaxError</strong>: invalid syntax (<ipython-input-17-6215320acfe2>, line 1)</p>\n"
    }
   },
   "source": [
    "##### $e_c = $ {{ espessura_corte }} $_{mm}$\n",
    "\n",
    "##### $N^o tábuas = $ {{ numero_tabuas }} tábuas\n",
    "\n",
    "##### $V_{7_{peças bloco}} = $ {{ volume_pecas_bloco }}\n",
    "\n",
    "![Diagrama](4-2-diagrama1-exemplo-solucao.png)\n",
    "\n",
    "##### $R_{end_{máx}} = $ {{ rendimento_maximo_real }} %"
   ]
  },
  {
   "cell_type": "markdown",
   "metadata": {},
   "source": [
    "#### Volume e o rendimento máximo em madeira serrada (tábuas) normalizada"
   ]
  },
  {
   "cell_type": "code",
   "execution_count": 16,
   "metadata": {},
   "outputs": [],
   "source": [
    "largura_normalizada = round(a * 1000 / 25) * 25\n",
    "\n",
    "comprimento_normalizado = round(round(c / 0.3) * 0.3,_round)\n",
    "\n",
    "volume_pecas_bloco_normalizado = round(numero_tabuas * (espessura_normalizada/1000 * largura_normalizada/1000 * comprimento_normalizado),_round)\n",
    "\n",
    "espessura_lateral_normalizada = espessura_normalizada\n",
    "\n",
    "largura_lateral_normalizada_calculo = round(round(y / 25) * 25,_round)\n",
    "\n",
    "largura_lateral_normalizada = 100 # Obtida da tabela para a largura inferior da peça que melhor se encaixa\n",
    "\n",
    "volume_pecas_laterais_normalizado = round(4 * (espessura_lateral_normalizada / 1000 * largura_lateral_normalizada / 1000 * comprimento_normalizado),_round)\n",
    "\n",
    "rendimento_normalizado = round(((volume_pecas_laterais_normalizado + volume_pecas_bloco_normalizado) / volume_tora) * 100)"
   ]
  },
  {
   "cell_type": "markdown",
   "metadata": {
    "variables": {
     " c ": "2.75",
     " comprimento_normalizado ": "2.7",
     " comprimento_normalizado + 0.05 ": "2.75",
     " espessura_lateral_normalizada ": "25",
     " espessura_normalizada ": "25",
     " espessura_normalizada * 1.05 ": "26.25",
     " largura_lateral_normalizada ": "100",
     " largura_normalizada ": "200",
     " largura_normalizada * 1.05 ": "210.0",
     " rendimento_normalizado ": "53",
     " round(a * 1000,_round) ": "212.1",
     " round(c / 0.3) ": "9",
     " round(round(c / 0.3) * 0.3,2) ": "2.7",
     " round(y/25) ": "5",
     " round(y/25) * 25 ": "125",
     " round(y/25) * 25 * 1.05 ": "131.25",
     " volume_pecas_bloco_normalizado ": "0.0945",
     " volume_pecas_laterais_normalizado ": "0.027",
     " x_linha ": "26.7464",
     " y ": "127.2124",
     " y / 25 ": "5.088496",
     "-c-": "<p><strong>SyntaxError</strong>: invalid syntax (<ipython-input-17-abd9a658b382>, line 1)</p>\n",
     "-comprimento_normalizado-": "<p><strong>SyntaxError</strong>: invalid syntax (<ipython-input-17-8a425c1c326f>, line 1)</p>\n",
     "-espessura_lateral_normalizada-": "<p><strong>SyntaxError</strong>: invalid syntax (<ipython-input-17-c44a4787bd5f>, line 1)</p>\n",
     "-espessura_normalizada-": "<p><strong>SyntaxError</strong>: invalid syntax (<ipython-input-17-5c58127824c9>, line 1)</p>\n",
     "-largura_lateral_normalizada-": "<p><strong>SyntaxError</strong>: invalid syntax (<ipython-input-17-3b6872e8e151>, line 1)</p>\n",
     "-largura_normalizada-": "<p><strong>SyntaxError</strong>: invalid syntax (<ipython-input-17-b23c82869df6>, line 1)</p>\n",
     "-rendimento_normalizado-": "<p><strong>SyntaxError</strong>: invalid syntax (<ipython-input-17-6d6334564990>, line 1)</p>\n",
     "-round(c-/-0.3)-": "<p><strong>SyntaxError</strong>: invalid syntax (<ipython-input-17-139c4485d5fd>, line 1)</p>\n",
     "-round(round(c-/-0.3)-*-0.3,2)-": "<p><strong>SyntaxError</strong>: invalid syntax (<ipython-input-17-e65fa8c0a309>, line 1)</p>\n",
     "-volume_pecas_bloco_normalizado-": "<p><strong>SyntaxError</strong>: invalid syntax (<ipython-input-17-9e79a6c51e71>, line 1)</p>\n",
     "-volume_pecas_laterais_normalizado-": "<p><strong>SyntaxError</strong>: invalid syntax (<ipython-input-17-e30a022b39cc>, line 1)</p>\n"
    }
   },
   "source": [
    "##### $e_n = $ {{ espessura_normalizada }} $_{mm}$\n",
    "\n",
    "##### $\\rightarrow l_n = $ {{ largura_normalizada }} $_{mm}$\n",
    "$\\rightarrow$ {{ largura_normalizada }} + 5% = {{ largura_normalizada * 1.05 }} $\\lt$ {{ round(a * 1000,_round) }} $_{mm}$\n",
    "\n",
    "##### $\\rightarrow c_n = $ {{ comprimento_normalizado }} $_{m}$\n",
    "$\\rightarrow$ {{ comprimento_normalizado }} $_{m}$ + 0.05$_{m}$ = {{ comprimento_normalizado + 0.05 }} > {{ comprimento_normalizado }}\n",
    "\n",
    "##### $V_{7_{peças bloco normalizado}} = $ {{ volume_pecas_bloco_normalizado }} $_{m^3}$\n",
    "\n",
    "![Diagrama](4-2-diagrama2-exemplo-solucao.png)\n",
    "\n",
    "##### $e_n = $ {{ espessura_lateral_normalizada }} $_{mm}$\n",
    "$\\rightarrow$ {{ espessura_normalizada }} + 5% (*sobremedida de contratação, apostila 2, pág. 16*)  = {{ espessura_normalizada * 1.05 }} $_{mm} \\lt $ {{ x_linha }} $\\therefore e_n = $ {{ espessura_normalizada }} $_{mm}$\n",
    "\n",
    "##### $l_n = $ {{ largura_lateral_normalizada }} $_{mm}$\n",
    "{{ y }} / 25 = {{ y / 25 }} $ \\rightarrow $ {{ round(y/25) }} $\\times$ 25 $\\rightarrow$ {{ round(y/25) * 25 }} + 5% (*sobremedida de contratação, apostila 2, pág. 16*) = {{ round(y/25) * 25 * 1.05 }}\n",
    "\n",
    "> Dada a espessura de {{ espessura_lateral_normalizada }} $_{mm}$ então é uma tábua cuja largura normalizada é $\\ge 100$, portanto a largura nominal inferior é $100_{mm}$ - obtida da tabela de normalização, apostila 2, página 16\n",
    "\n",
    "##### $c_n = $  {{ c }} $_{m}$ / 0.30 $_{m}$ = {{ round(c / 0.3) }} vezes $ \\rightarrow $  {{ round(round(c / 0.3) * 0.3,2) }} $_{m}$ $ \\rightarrow $ + 0.05 $_{m}$ $ \\rightarrow $  {{ comprimento_normalizado }}  $\\le$ {{ c }} $ \\rightarrow c_n = $  {{ comprimento_normalizado }}\n",
    "\n",
    "##### $V_{4P.L.} = $ {{ volume_pecas_laterais_normalizado }} $_{m^3}$\n",
    "\n",
    "##### $ R_{end_{nor}} = $ {{ rendimento_normalizado }} %"
   ]
  },
  {
   "cell_type": "markdown",
   "metadata": {},
   "source": [
    "> This is the end"
   ]
  }
 ],
 "metadata": {
  "kernelspec": {
   "display_name": "Python 3",
   "language": "python",
   "name": "python3"
  },
  "language_info": {
   "codemirror_mode": {
    "name": "ipython",
    "version": 3
   },
   "file_extension": ".py",
   "mimetype": "text/x-python",
   "name": "python",
   "nbconvert_exporter": "python",
   "pygments_lexer": "ipython3",
   "version": "3.7.3"
  }
 },
 "nbformat": 4,
 "nbformat_minor": 2
}
