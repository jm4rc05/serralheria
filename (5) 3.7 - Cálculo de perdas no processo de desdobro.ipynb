{
 "cells": [
  {
   "cell_type": "markdown",
   "metadata": {},
   "source": [
    "# 3.7  - Cálculo de perdas no processo de desdobro\n",
    "\n",
    "$$\n",
    "\\%Perdas_{toras S.C.} = \\left( \\frac{V_{serragem} + V_{costaneiras,refugos}}{V_{tora S.C.}} \\right) \\times 100\n",
    "$$\n",
    "\n",
    "$$\n",
    "\\%Perdas_{toras C.C.} = \\left( \\frac{V_{serragem} + V_{costaneiras,refugos}}{V_{tora C.C.}} \\right) \\times 100\n",
    "$$\n",
    "\n",
    "$$\n",
    "V_{costaneira,refugos} = V_{tora S.C.} - \\left( V_{mad.settada} + V_{serragem} \\right)\n",
    "$$\n",
    "\n",
    "$$\n",
    "V_{costaneira,refugos} = V_{tora C.C.} - \\left( V_{mad.settada} + V_{serragem} + V_{cascas} \\right)\n",
    "$$\n",
    "\n",
    "$$\n",
    "V_{casca} = V_{tora S.C.} - V_{tora C.C.}\n",
    "$$\n",
    "\n",
    "onde:\n",
    "\n",
    "* $S.C. \\rightarrow$ *Sem Casca*; e\n",
    "* $C.C. \\rightarrow$ *Com Casca*.\n",
    "\n",
    "## Exemplo repete tudo do notebook 5 da apostila 4\n",
    "\n"
   ]
  },
  {
   "cell_type": "markdown",
   "metadata": {},
   "source": [
    "> This is the end"
   ]
  }
 ],
 "metadata": {
  "kernelspec": {
   "display_name": "Python 3",
   "language": "python",
   "name": "python3"
  },
  "language_info": {
   "codemirror_mode": {
    "name": "ipython",
    "version": 3
   },
   "file_extension": ".py",
   "mimetype": "text/x-python",
   "name": "python",
   "nbconvert_exporter": "python",
   "pygments_lexer": "ipython3",
   "version": "3.7.3"
  }
 },
 "nbformat": 4,
 "nbformat_minor": 2
}
