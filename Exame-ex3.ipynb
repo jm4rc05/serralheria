{
 "cells": [
  {
   "cell_type": "code",
   "execution_count": null,
   "metadata": {},
   "outputs": [],
   "source": [
    "custo_em_pe = 60 # R/m3\n",
    "producao_turno = 42 # m3\n",
    "rendimento = 40 # %\n",
    "dias_trabalho = 264 # dias/ano\n",
    "custo_extracao_na_serraria = 74 # % custo_em_pe\n",
    "\n",
    "custo_final_m3_na_serraria = custo_em_pe"
   ]
  }
 ],
 "metadata": {
  "kernelspec": {
   "display_name": "Python 3",
   "language": "python",
   "name": "python3"
  },
  "language_info": {
   "codemirror_mode": {
    "name": "ipython",
    "version": 3
   },
   "file_extension": ".py",
   "mimetype": "text/x-python",
   "name": "python",
   "nbconvert_exporter": "python",
   "pygments_lexer": "ipython3",
   "version": "3.7.3"
  }
 },
 "nbformat": 4,
 "nbformat_minor": 2
}
