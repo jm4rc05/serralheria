{
 "cells": [
  {
   "cell_type": "markdown",
   "metadata": {},
   "source": [
    "# 6 - Potência motriz da serra\n",
    "\n",
    "## Exemplo de cálculo de potência necessária do motor ($N_m$)\n",
    "\n",
    "a) Uma serraria trabalha com serra de fita simples (principal) e alimentação da madeira com carro porta-toras, com as seguintes características:\n",
    "\n",
    "### Dados"
   ]
  },
  {
   "cell_type": "code",
   "execution_count": 6,
   "metadata": {},
   "outputs": [],
   "source": [
    "passo_dente = 41          # milímetros\n",
    "largura_corte_dente = 2.5 # milímetros\n",
    "rotacoes_volante = 783    # RPMs\n",
    "potencia_motor_serra = 19 # KW\n",
    "potencia_vazio = 3.0      # KW\n",
    "Vc = 41                   # m/seg\n",
    "Va = 0.615 * 60           # m/min\n",
    "Va = 0.3075 * 60\n",
    "diametro_volantes = 1000  # milímetros\n",
    "altura_dente = 18         # milímetros\n",
    "rendimento_motor = 80     # %\n",
    "espessura_serra = 1       # milímetros\n",
    "largura_serra = 130       # milímetros\n",
    "corte = 28                # centímetros\n",
    "\n",
    "_round = 4"
   ]
  },
  {
   "cell_type": "markdown",
   "metadata": {},
   "source": [
    "### Solução\n",
    "\n",
    "![Diagrama](7-6-diagrama1-exemplo.png)"
   ]
  },
  {
   "cell_type": "code",
   "execution_count": 7,
   "metadata": {},
   "outputs": [],
   "source": [
    "N_m = potencia_motor_serra\n",
    "b = round(largura_corte_dente,_round)\n",
    "h_c = round(corte / 100,_round)\n",
    "V_a = round(Va / 60,_round)\n",
    "V_c = Vc\n",
    "t_linha = round(passo_dente * V_a / V_c,2)\n",
    "N_c = round(44 * 10**6 * b * 10**(-3) * (corte / 100) * V_a,_round)"
   ]
  },
  {
   "cell_type": "markdown",
   "metadata": {
    "variables": {
     " N_c ": "9471.0",
     " V_a ": "0.3075",
     " V_c / 100 ": "0.41",
     " b ": "2.5",
     " largura_corte_dente ": "2.5",
     " potencia_motor_serra ": "19",
     " potencia_vazio ": "3.0",
     " round(N_c / 1000,_round) ": "9.471",
     " t_linha ": "0.31",
     "-N_c-": "<p><strong>SyntaxError</strong>: invalid syntax (<ipython-input-8-8dac8ddbe1be>, line 1)</p>\n",
     "-V_a-": "<p><strong>SyntaxError</strong>: invalid syntax (<ipython-input-8-424a79a536a2>, line 1)</p>\n",
     "-V_c-/-100-": "<p><strong>SyntaxError</strong>: invalid syntax (<ipython-input-8-a76ba2f1038a>, line 1)</p>\n",
     "-b-": "<p><strong>SyntaxError</strong>: invalid syntax (<ipython-input-8-a2a854d37399>, line 1)</p>\n",
     "-largura_corte_dente-": "<p><strong>SyntaxError</strong>: invalid syntax (<ipython-input-8-75374be239a3>, line 1)</p>\n",
     "-potencia_motor_serra-": "<p><strong>SyntaxError</strong>: invalid syntax (<ipython-input-8-6f501f56c465>, line 1)</p>\n",
     "-potencia_vazio-": "<p><strong>SyntaxError</strong>: invalid syntax (<ipython-input-8-9df5aa9d031e>, line 1)</p>\n",
     "-round(N_c-/-1000,_round)-": "<p><strong>SyntaxError</strong>: invalid syntax (<ipython-input-8-093c85ca3798>, line 1)</p>\n",
     "-t_linha-": "<p><strong>SyntaxError</strong>: invalid syntax (<ipython-input-8-dd9130ea7259>, line 1)</p>\n"
    }
   },
   "source": [
    "#### $N_m \\le $ à potência do motor da máquina ( {{ potencia_motor_serra }} )\n",
    "\n",
    "#### $b = $ {{ largura_corte_dente }}$_{m}$\n",
    "\n",
    "#### $h_c = $ {{ V_c / 100 }}$_{m}$\n",
    "\n",
    "#### $V_a = $ {{ V_a }}$_{m/seg}$\n",
    "\n",
    "#### $K_s = $ ? $\\rightarrow $ obter $t'$\n",
    "\n",
    "#### $P / V_c = t' / V_a \\rightarrow t' = (P \\times V_a) / V_c$\n",
    "\n",
    "#### $N_c = k_s \\times b \\times h_c \\times V_a$\n",
    "\n",
    "![Diagrama](7-6-diagrama2-exemplo.png)\n",
    "\n",
    "#### $t' = $ {{ t_linha }}$_{m} \\rightarrow K_s = 44 \\times 10^6 (N/m^2)$ \n",
    "\n",
    "#### $\\therefore N_c = 44 \\times 10^6 (N/m^2) \\times ($ {{ b }} $\\times 10^{-3}_{m}) \\times $ {{ V_c / 100 }}$_{m} \\times $ {{ V_a }}$_{m/seg} = $ {{ N_c }} (W) ou {{ round(N_c / 1000,_round) }} (KW)\n",
    "\n",
    "#### $N_0 = $ {{ potencia_vazio }} (KW)\n",
    "\n",
    "#### $N_m \\le $ à potência do motor da máquina\n",
    "\n",
    "#### EMPAQUEI no 44,47KW??? $ \\le $ 50WK"
   ]
  },
  {
   "cell_type": "markdown",
   "metadata": {},
   "source": [
    "b) Fazer o mesmo cálculo anterior para uma altura de corte de 65 cm, obrigatoriamente\n",
    "\n",
    "### Dados"
   ]
  },
  {
   "cell_type": "code",
   "execution_count": 3,
   "metadata": {},
   "outputs": [],
   "source": [
    "corte = 65                # centímetros"
   ]
  },
  {
   "cell_type": "code",
   "execution_count": 8,
   "metadata": {},
   "outputs": [],
   "source": [
    "N_m = potencia_motor_serra\n",
    "b = round(largura_corte_dente,_round)\n",
    "h_c = round(corte / 100,_round)\n",
    "V_a = round(Va / 60,_round)\n",
    "t_linha = round(passo_dente * V_a / Vc,2)\n",
    "K_s = 55\n",
    "N_c = round(K_s * 10**6 * b * 10**(-3) * (corte / 100) * V_a,_round)"
   ]
  },
  {
   "cell_type": "markdown",
   "metadata": {
    "variables": {
     " K_s ": "55",
     " N_c ": "11838.75",
     " V_a ": "0.3075",
     " b ": "2.5",
     " corte / 100 ": "0.28",
     " potencia_vazio ": "3.0",
     " round(N_c / 1000,_round) ": "11.8387",
     " t_linha ": "0.31",
     "-K_s-": "<p><strong>SyntaxError</strong>: invalid syntax (<ipython-input-9-4a7f2a3b0ea7>, line 1)</p>\n",
     "-N_c-": "<p><strong>SyntaxError</strong>: invalid syntax (<ipython-input-9-8dac8ddbe1be>, line 1)</p>\n",
     "-V_a-": "<p><strong>SyntaxError</strong>: invalid syntax (<ipython-input-9-424a79a536a2>, line 1)</p>\n",
     "-b-": "<p><strong>SyntaxError</strong>: invalid syntax (<ipython-input-9-a2a854d37399>, line 1)</p>\n",
     "-corte-/-100-": "<p><strong>SyntaxError</strong>: invalid syntax (<ipython-input-9-47c3d077ddda>, line 1)</p>\n",
     "-potencia_vazio-": "<p><strong>SyntaxError</strong>: invalid syntax (<ipython-input-9-9df5aa9d031e>, line 1)</p>\n",
     "-round(N_c-/-1000,_round)-": "<p><strong>SyntaxError</strong>: invalid syntax (<ipython-input-9-093c85ca3798>, line 1)</p>\n",
     "-t_linha-": "<p><strong>SyntaxError</strong>: invalid syntax (<ipython-input-9-dd9130ea7259>, line 1)</p>\n"
    }
   },
   "source": [
    "#### $t' = $ {{ t_linha }}$_{m} \\rightarrow K_s = 44 \\times 10^6 (N/m^2)$ \n",
    "\n",
    "#### $\\therefore N_c = $ {{ K_s }} $ \\times 10^6 (N/m^2) \\times ($ {{ b }} $\\times 10^{-3}_{m}) \\times $ {{ corte / 100 }}$_{m} \\times $ {{ V_a }}$_{m/seg} = $ {{ N_c }} (W) ou {{ round(N_c / 1000,_round) }} (KW)\n",
    "\n",
    "#### $N_0 = $ {{ potencia_vazio }} (KW)\n",
    "\n",
    "#### $N_m \\le $ à potência do motor da máquina\n",
    "\n",
    "#### EMPAQUEI no 63KW??? $ \\le $ 50WK"
   ]
  },
  {
   "cell_type": "markdown",
   "metadata": {},
   "source": [
    "Mudança de $V_a = 40_{m/min}$ para $V_a = 20_{m/min}$"
   ]
  },
  {
   "cell_type": "code",
   "execution_count": 5,
   "metadata": {},
   "outputs": [],
   "source": [
    "Va = 20"
   ]
  },
  {
   "cell_type": "code",
   "execution_count": 6,
   "metadata": {},
   "outputs": [],
   "source": [
    "N_m = potencia_motor_serra\n",
    "b = round(largura_corte_dente,_round)\n",
    "h_c = round(corte / 100,_round)\n",
    "V_a = round(Va / 60,_round)\n",
    "t_linha = round(passo_dente * V_a / Vc,2)\n",
    "K_s = 55\n",
    "N_c = round(K_s * 10**6 * b * 10**(-3) * (corte / 100) * V_a,_round)"
   ]
  },
  {
   "cell_type": "markdown",
   "metadata": {
    "variables": {
     " K_s ": "55",
     " N_c ": "32171.7825",
     " V_a ": "0.3333",
     " b ": "2.7",
     " corte / 100 ": "0.65",
     " potencia_vazio ": "2.1",
     " round(N_c / 1000,_round) ": "32.1718",
     " t_linha ": "0.3",
     "-K_s-": "<p><strong>SyntaxError</strong>: invalid syntax (<ipython-input-7-4a7f2a3b0ea7>, line 1)</p>\n",
     "-N_c-": "<p><strong>SyntaxError</strong>: invalid syntax (<ipython-input-7-8dac8ddbe1be>, line 1)</p>\n",
     "-V_a-": "<p><strong>SyntaxError</strong>: invalid syntax (<ipython-input-7-424a79a536a2>, line 1)</p>\n",
     "-b-": "<p><strong>SyntaxError</strong>: invalid syntax (<ipython-input-7-a2a854d37399>, line 1)</p>\n",
     "-corte-/-100-": "<p><strong>SyntaxError</strong>: invalid syntax (<ipython-input-7-47c3d077ddda>, line 1)</p>\n",
     "-potencia_vazio-": "<p><strong>SyntaxError</strong>: invalid syntax (<ipython-input-7-9df5aa9d031e>, line 1)</p>\n",
     "-round(N_c-/-1000,_round)-": "<p><strong>SyntaxError</strong>: invalid syntax (<ipython-input-7-093c85ca3798>, line 1)</p>\n",
     "-t_linha-": "<p><strong>SyntaxError</strong>: invalid syntax (<ipython-input-7-dd9130ea7259>, line 1)</p>\n"
    }
   },
   "source": [
    "#### $t' = $ {{ t_linha }}$_{m} \\rightarrow K_s = 55 \\times 10^6 (N/m^2)$ \n",
    "\n",
    "#### $\\therefore N_c = $ {{ K_s }} $ \\times 10^6 (N/m^2) \\times ($ {{ b }} $\\times 10^{-3}_{m}) \\times $ {{ corte / 100 }}$_{m} \\times $ {{ V_a }}$_{m/seg} = $ {{ N_c }} (W) ou {{ round(N_c / 1000,_round) }} (KW)\n",
    "\n",
    "#### $N_0 = $ {{ potencia_vazio }} (KW)\n",
    "\n",
    "#### $N_m \\le $ à potência do motor da máquina\n",
    "\n",
    "#### EMPAQUEI no 40,28KW??? $ \\le $ 50WK"
   ]
  },
  {
   "cell_type": "markdown",
   "metadata": {},
   "source": [
    "> This is the end"
   ]
  }
 ],
 "metadata": {
  "kernelspec": {
   "display_name": "Python 3",
   "language": "python",
   "name": "python3"
  },
  "language_info": {
   "codemirror_mode": {
    "name": "ipython",
    "version": 3
   },
   "file_extension": ".py",
   "mimetype": "text/x-python",
   "name": "python",
   "nbconvert_exporter": "python",
   "pygments_lexer": "ipython3",
   "version": "3.7.3"
  }
 },
 "nbformat": 4,
 "nbformat_minor": 2
}
