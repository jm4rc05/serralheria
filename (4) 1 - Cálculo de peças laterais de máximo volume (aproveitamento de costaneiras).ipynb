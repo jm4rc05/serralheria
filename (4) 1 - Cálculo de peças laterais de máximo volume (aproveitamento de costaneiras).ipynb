{
 "cells": [
  {
   "cell_type": "markdown",
   "metadata": {},
   "source": [
    "# 1 - Cálculo de peças laterais de máximo volume (aproveitamento de costaneiras)\n",
    "\n",
    "![Diagrama](4-1-diagrama.png)\n",
    "\n",
    "## a) Volume máximo de uma peça lateral ($V_{P.L}$)\n",
    "\n",
    "$$\n",
    "V_{P.L.} = x' \\times y \\times c \\rightarrow x' = x - b\n",
    "$$\n",
    "\n",
    "## b) Área máxima de uma peça lateral sem considerar “$b$” no cálculo de $A$\n",
    "\n",
    "$$\n",
    "A = x' \\times y\n",
    "$$\n",
    "\n",
    "### Cálculo de $x$ e $y$\n",
    "\n",
    "\\begin{align*}\n",
    "\\Delta abc : & \\cos{\\alpha} = \\frac{k + x}{R} \\\\\n",
    "             & \\sin{\\alpha} = \\frac{\\frac{y}{2}}{R} \\\\\n",
    "             & x = R \\times \\cos{\\alpha} - k \\\\\n",
    "             & y = 2R \\times \\sin{\\alpha}\n",
    "\\end{align*}\n",
    "\n",
    "onde:\n",
    "\n",
    "* $A \\rightarrow$ *área do retângulo inscrito no segmento circular*;\n",
    "* $R \\rightarrow$ *raio do círculo*;\n",
    "* $K = \\frac{a}{2}$;\n",
    "* $a = \\frac{D}{\\sqrt{2}}$;\n",
    "* $D \\rightarrow$ *diâmetro menor da tora (ponta fina)*; e\n",
    "* $\\alpha \\rightarrow$ *?*.\n",
    "\n",
    "### Cálculo de \"$\\alpha$\" (derivadas $1^a$ e $2^a$ para determinar máximos de uma função\n",
    "\n",
    "$$\n",
    "A = x \\times y = \\left( R \\times \\cos{\\alpha} - K \\right) \\times \\left( 2R \\times \\sin{\\alpha} \\right)\n",
    "$$\n",
    "\n",
    "\\begin{align*}\n",
    "A' = & \\left( R\\cos{\\alpha} - K \\right) \\times \\left( 2R\\cos{\\alpha} \\right) + \\left[ 2R\\sin{\\alpha} \\times \\left( -R\\sin{\\alpha} \\right) \\right] \\\\\n",
    "     & 4R^2 \\cos^2{\\alpha} - 2KR\\cos{\\alpha} - 2R^2\n",
    "\\end{align*}\n",
    "\n",
    "fazendo $z = \\cos{alpha}$:\n",
    "\n",
    "$$\n",
    "A' = 4R^2z^2 - 2kRz - 2R^2 \\rightarrow A' = \\frac{2kR \\pm \\sqrt{\\left( 4k^2 \\times R^2 \\right) + 32R^4}}{8R^2}\n",
    "$$\n",
    "\n",
    "$\\therefore \\alpha = 25.09 (graus \\cdot cte)$\n",
    "\n",
    "### Volume das 4 peças laterais (*volume máximo*)\n",
    "\n",
    "$$\n",
    "V_{4P.L.} = 4 \\cdot \\left( x' \\cdot y \\right) \\cdot c\n",
    "$$\n",
    "\n",
    "### Rendimento máximo de madeira serrada obtida de uma tora ($R_{Máx}$)\n",
    "\n",
    "$$\n",
    "R_{Máx} = \\frac{V_{mad.serrada}}{V_{tora}} \\cdot 100 \\quad (\\%) \\quad = \\frac{V_{bloco máx} + V_{4P.L.}}{V_{tora}} \\times \\quad (\\%)\n",
    "$$\n",
    "\n",
    "## Exemplo\n",
    "\n",
    "Calcular o volume e o rendimento “máximo” de madeira serrada (bloco + peças laterais) que se obtém de uma tora de Pinus sem casca com as seguintes dimensões: $D_1 = 35_{cm}$; $D_2 = 30_{cm}$; $c = 2.75_{m}$; $b = 3_{mm}$.\n",
    "\n",
    "![Diagrama](4-1-diagrama-exemplo.png)"
   ]
  },
  {
   "cell_type": "code",
   "execution_count": 22,
   "metadata": {},
   "outputs": [],
   "source": [
    "D1 = 35        # centímetros\n",
    "D2 = 30        # centímetros\n",
    "c = 2.75       # metros\n",
    "b = 3          # milímetros\n",
    "\n",
    "alpha = 25.09  # constante obtida acima"
   ]
  },
  {
   "cell_type": "markdown",
   "metadata": {},
   "source": [
    "### Solução"
   ]
  },
  {
   "cell_type": "code",
   "execution_count": 46,
   "metadata": {},
   "outputs": [],
   "source": [
    "import math\n",
    "\n",
    "_round = 4\n",
    "\n",
    "a = round((D2 / math.sqrt(2)) / 100,_round)\n",
    "volume_bloco_maximo = round(a**2 * c,_round)\n",
    "volume_tora = round((math.pi * (D1**2 / 100 + D2**2 / 100) / 8) * c / 100,_round)\n",
    "rendimento = round((volume_bloco_maximo / volume_tora) * 100,_round)\n",
    "\n",
    "R = round(D2 / 2 / 100,_round)\n",
    "K = round(a / 2,_round)\n",
    "x = round((R * math.cos(math.radians(alpha)) - K) * 1000,_round)\n",
    "x_linha = x - b\n",
    "\n",
    "y = round(2 * R * math.sin(math.radians(alpha)) * 1000,_round)\n",
    "\n",
    "volume_4_pecas_laterais = round(4 * (x_linha / 1000 * y / 1000) * c,_round)\n",
    "\n",
    "rendimento_maximo = round(((volume_bloco_maximo + volume_4_pecas_laterais) / volume_tora) * 100,_round)"
   ]
  },
  {
   "cell_type": "markdown",
   "metadata": {
    "variables": {
     " K ": "0.1061",
     " R ": "0.15",
     " a ": "0.2121",
     " alpha ": "25.09",
     " rendimento ": "53.8998",
     " rendimento_maximo ": "70.1961",
     " volume_4_pecas_laterais ": "0.0374",
     " volume_bloco_maximo ": "0.1237",
     " volume_tora ": "0.2295",
     " x ": "29.7464",
     " x_linha ": "26.7464",
     " y ": "127.2124",
     "-K-": "<p><strong>SyntaxError</strong>: invalid syntax (<ipython-input-47-c670e95543f7>, line 1)</p>\n",
     "-R-": "<p><strong>SyntaxError</strong>: invalid syntax (<ipython-input-47-dbac5dfdabfc>, line 1)</p>\n",
     "-a-": "<p><strong>SyntaxError</strong>: invalid syntax (<ipython-input-47-bff64028416f>, line 1)</p>\n",
     "-alpha-": "<p><strong>SyntaxError</strong>: invalid syntax (<ipython-input-47-dc271edeb58e>, line 1)</p>\n",
     "-rendimento-": "<p><strong>SyntaxError</strong>: invalid syntax (<ipython-input-47-9f89d9bb4635>, line 1)</p>\n",
     "-rendimento_maximo-": "<p><strong>SyntaxError</strong>: invalid syntax (<ipython-input-47-bc581683d6fc>, line 1)</p>\n",
     "-volume_4_pecas_laterais-": "<p><strong>SyntaxError</strong>: invalid syntax (<ipython-input-47-f341e3995e7b>, line 1)</p>\n",
     "-volume_bloco_maximo-": "<p><strong>SyntaxError</strong>: invalid syntax (<ipython-input-47-782d414be915>, line 1)</p>\n",
     "-volume_tora-": "<p><strong>SyntaxError</strong>: invalid syntax (<ipython-input-47-c96b5865bf13>, line 1)</p>\n",
     "-x-": "<p><strong>SyntaxError</strong>: invalid syntax (<ipython-input-47-e0d3e461d4b5>, line 1)</p>\n",
     "-x_linha-": "<p><strong>SyntaxError</strong>: invalid syntax (<ipython-input-47-e4aba4751843>, line 1)</p>\n",
     "-y-": "<p><strong>SyntaxError</strong>: invalid syntax (<ipython-input-47-f23ba37d1e75>, line 1)</p>\n"
    }
   },
   "source": [
    "#### $a = $ {{ a }} $_{m}$\n",
    "\n",
    "#### $V_{tora} = $ {{ volume_tora }} $_{m^3}$\n",
    "\n",
    "#### $V_{blocomáx} = $ {{ volume_bloco_maximo }} $_{m^3}$\n",
    "\n",
    "### $R_{end} = $ {{ rendimento }} $\\%$\n",
    "\n",
    "#### $V_{tora} = $ {{ volume_tora }} $_{m^3}$\n",
    "\n",
    "#### $V_{4P.L.} = 4(x' \\times y) \\times c \\rightarrow x' = x - b$\n",
    "\n",
    "### $x = R\\cos{\\alpha} - K$\n",
    "\n",
    "### $R = \\frac{D_2}{2}$\n",
    "\n",
    "### $R = $ {{ R }} $_{m}$\n",
    "\n",
    "### $K = \\frac{a}{2}$\n",
    "\n",
    "### $K = $ {{ K }} $_{m}$\n",
    "\n",
    "### $\\alpha = $ {{ alpha }} $^o (constante)$ \n",
    "\n",
    "### $x = $ {{ x }} $_{mm}$\n",
    "\n",
    "### $x' = $ {{ x_linha }} $_{mm}$\n",
    "\n",
    "### $y = $ {{ y }} $_{mm}$\n",
    "\n",
    "### $V_{4P.L.} = $ {{ volume_4_pecas_laterais }} $_{m^3}$\n",
    "\n",
    "### $R_{end_{máx}} = $ {{ rendimento_maximo }} $\\% \\rightarrow rendimento \\; real \\; madeira \\; verde $"
   ]
  },
  {
   "cell_type": "markdown",
   "metadata": {},
   "source": [
    "![Diagrama](4-1-diagrama-exemplo-solucao.png)"
   ]
  },
  {
   "cell_type": "markdown",
   "metadata": {},
   "source": [
    "> This is the end"
   ]
  }
 ],
 "metadata": {
  "kernelspec": {
   "display_name": "Python 3",
   "language": "python",
   "name": "python3"
  },
  "language_info": {
   "codemirror_mode": {
    "name": "ipython",
    "version": 3
   },
   "file_extension": ".py",
   "mimetype": "text/x-python",
   "name": "python",
   "nbconvert_exporter": "python",
   "pygments_lexer": "ipython3",
   "version": "3.7.3"
  }
 },
 "nbformat": 4,
 "nbformat_minor": 2
}
